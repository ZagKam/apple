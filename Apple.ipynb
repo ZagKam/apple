{
 "cells": [
  {
   "cell_type": "code",
   "execution_count": 140,
   "metadata": {},
   "outputs": [],
   "source": [
    "import math\n",
    "from random import randint\n",
    "import statistics"
   ]
  },
  {
   "cell_type": "markdown",
   "metadata": {},
   "source": [
    "# Яблочная парша #"
   ]
  },
  {
   "cell_type": "markdown",
   "metadata": {},
   "source": [
    "Информация взята тут: <https://translated.turbopages.org/proxy_u/en-ru.ru.eaa0b6cc-64c8e3f9-35b95bff-74722d776562/https/pubmed.ncbi.nlm.nih.gov/18944849/>"
   ]
  },
  {
   "cell_type": "markdown",
   "metadata": {},
   "source": [
    "СЭТ(Сумма эффективных температур): С=(Т-П)*н, где Т - наблюдаемая температура, П - нижний порог развития, н - продолжительность периода развития. "
   ]
  },
  {
   "cell_type": "code",
   "execution_count": 141,
   "metadata": {},
   "outputs": [],
   "source": [
    "temp = [i for i in range(61)]\n",
    "def apple_parsha_spore_formation_surviving(temp):\n",
    "    sum_temp = 0\n",
    "    for i in range(61):\n",
    "        sum_temp += temp[-i-1]\n",
    "    condition_formation = sum_temp - 10 * 60\n",
    "    if condition_formation > 0 and temp[-1] > 25:\n",
    "        beginning_formation = 1\n",
    "        return beginning_formation\n",
    "    else: beginning_formation = 0\n",
    "    return beginning_formation"
   ]
  },
  {
   "cell_type": "code",
   "execution_count": 142,
   "metadata": {},
   "outputs": [
    {
     "data": {
      "text/plain": [
       "1"
      ]
     },
     "execution_count": 142,
     "metadata": {},
     "output_type": "execute_result"
    }
   ],
   "source": [
    "temp = [i for i in range(61)]\n",
    "apple_parsha_spore_formation_surviving(temp)"
   ]
  },
  {
   "cell_type": "code",
   "execution_count": 143,
   "metadata": {},
   "outputs": [
    {
     "data": {
      "text/plain": [
       "0"
      ]
     },
     "execution_count": 143,
     "metadata": {},
     "output_type": "execute_result"
    }
   ],
   "source": [
    "temp = [-i for i in range(61)]\n",
    "apple_parsha_spore_formation_surviving(temp)"
   ]
  },
  {
   "cell_type": "markdown",
   "metadata": {},
   "source": [
    "Информация взята тут: <https://studbooks.net/1104519/agropromyshlennost/metody_ucheta_rasprostranyonnosti_razvitiya_bolezney>\n",
    "\n",
    "На основе данных выведено среднее значение коэффициента: 5.07"
   ]
  },
  {
   "cell_type": "code",
   "execution_count": 144,
   "metadata": {},
   "outputs": [],
   "source": [
    "def time_to_grow(hum,temp):\n",
    "    if hum > 70 and temp > 0 and temp <= 19:#если условие выполняется, то зависимость линейна от температуры\n",
    "        percent_growth = temp * 100/19\n",
    "        return percent_growth\n",
    "    else: \n",
    "        if hum > 70 and temp > 19 and temp < 30:\n",
    "            percent_growth = -temp * 3000/330 + 3000/11\n",
    "            return percent_growth\n",
    "        else: percent_growth = -1 #temp * 5.07\n",
    "        return percent_growth"
   ]
  },
  {
   "cell_type": "code",
   "execution_count": 145,
   "metadata": {},
   "outputs": [
    {
     "data": {
      "text/plain": [
       "-1"
      ]
     },
     "execution_count": 145,
     "metadata": {},
     "output_type": "execute_result"
    }
   ],
   "source": [
    "time_to_grow(50,33)"
   ]
  },
  {
   "cell_type": "code",
   "execution_count": 146,
   "metadata": {},
   "outputs": [
    {
     "data": {
      "text/plain": [
       "-1"
      ]
     },
     "execution_count": 146,
     "metadata": {},
     "output_type": "execute_result"
    }
   ],
   "source": [
    "time_to_grow(70,20)"
   ]
  },
  {
   "cell_type": "code",
   "execution_count": 147,
   "metadata": {},
   "outputs": [
    {
     "data": {
      "text/plain": [
       "-1"
      ]
     },
     "execution_count": 147,
     "metadata": {},
     "output_type": "execute_result"
    }
   ],
   "source": [
    "time_to_grow(80,-1)"
   ]
  },
  {
   "cell_type": "code",
   "execution_count": 148,
   "metadata": {},
   "outputs": [
    {
     "data": {
      "text/plain": [
       "9.090909090909122"
      ]
     },
     "execution_count": 148,
     "metadata": {},
     "output_type": "execute_result"
    }
   ],
   "source": [
    "time_to_grow(85,29)"
   ]
  },
  {
   "cell_type": "markdown",
   "metadata": {},
   "source": [
    "Информация взята тут: <http://berrylib.ru/books/item/f00/s00/z0000040/st004.shtml>\n",
    "\n",
    "На основе данных выведена функция описывающая влияние температуры на время инкубационного периода"
   ]
  },
  {
   "cell_type": "code",
   "execution_count": 149,
   "metadata": {},
   "outputs": [],
   "source": [
    "temp = []\n",
    "for i in range(20):\n",
    "    temp.append(randint(-30, 30))\n",
    "def parshas_incubation_period(temp):\n",
    "    mean = (temp[-1]+temp[-2]+temp[-3]+temp[-4]+temp[-5]) / 5\n",
    "    meanN = round(mean)\n",
    "    if mean > 0 and mean <= 25:\n",
    "        len_incubation_period = abs((24-mean)*2 / 3) + 6\n",
    "        return len_incubation_period\n",
    "    else: \n",
    "        return -1"
   ]
  },
  {
   "cell_type": "code",
   "execution_count": 150,
   "metadata": {},
   "outputs": [
    {
     "data": {
      "text/plain": [
       "-1"
      ]
     },
     "execution_count": 150,
     "metadata": {},
     "output_type": "execute_result"
    }
   ],
   "source": [
    "temp = []\n",
    "for i in range(20):\n",
    "    temp.append(randint(-30, 30)) \n",
    "parshas_incubation_period (temp)"
   ]
  },
  {
   "cell_type": "code",
   "execution_count": 151,
   "metadata": {},
   "outputs": [
    {
     "data": {
      "text/plain": [
       "10.666666666666668"
      ]
     },
     "execution_count": 151,
     "metadata": {},
     "output_type": "execute_result"
    }
   ],
   "source": [
    "temp = []\n",
    "for i in range(20):\n",
    "    temp.append(randint(1, 30)) \n",
    "parshas_incubation_period (temp)"
   ]
  },
  {
   "cell_type": "code",
   "execution_count": 152,
   "metadata": {},
   "outputs": [
    {
     "data": {
      "text/plain": [
       "-1"
      ]
     },
     "execution_count": 152,
     "metadata": {},
     "output_type": "execute_result"
    }
   ],
   "source": [
    "temp = []\n",
    "for i in range(20):\n",
    "    temp.append(randint(-30, 1)) \n",
    "parshas_incubation_period (temp)"
   ]
  },
  {
   "cell_type": "markdown",
   "metadata": {},
   "source": [
    "Информация взята тут: <https://www.pesticidy.ru/%D0%9F%D0%B0%D1%80%D1%88%D0%B0_%D1%8F%D0%B1%D0%BB%D0%BE%D0%BD%D0%B8>\n",
    "\n",
    "На основе данных построена функция описывающая влияние температуры на время прорастания спор"
   ]
  },
  {
   "cell_type": "code",
   "execution_count": 153,
   "metadata": {},
   "outputs": [],
   "source": [
    "def penetration_of_plant(hum,temp):\n",
    "    if hum < 80 or temp < 2 or temp > 30 :\n",
    "        return 0\n",
    "    else: time_penetration = abs((18-temp) / 3) + 4\n",
    "    return time_penetration"
   ]
  },
  {
   "cell_type": "code",
   "execution_count": 154,
   "metadata": {},
   "outputs": [
    {
     "data": {
      "text/plain": [
       "0"
      ]
     },
     "execution_count": 154,
     "metadata": {},
     "output_type": "execute_result"
    }
   ],
   "source": [
    "penetration_of_plant(70,20)"
   ]
  },
  {
   "cell_type": "code",
   "execution_count": 155,
   "metadata": {},
   "outputs": [
    {
     "data": {
      "text/plain": [
       "0"
      ]
     },
     "execution_count": 155,
     "metadata": {},
     "output_type": "execute_result"
    }
   ],
   "source": [
    "penetration_of_plant(70,0)"
   ]
  },
  {
   "cell_type": "code",
   "execution_count": 156,
   "metadata": {},
   "outputs": [
    {
     "data": {
      "text/plain": [
       "5.0"
      ]
     },
     "execution_count": 156,
     "metadata": {},
     "output_type": "execute_result"
    }
   ],
   "source": [
    "penetration_of_plant(90,21)"
   ]
  },
  {
   "cell_type": "code",
   "execution_count": 157,
   "metadata": {},
   "outputs": [
    {
     "data": {
      "text/plain": [
       "0"
      ]
     },
     "execution_count": 157,
     "metadata": {},
     "output_type": "execute_result"
    }
   ],
   "source": [
    "penetration_of_plant(90,0)"
   ]
  },
  {
   "cell_type": "markdown",
   "metadata": {},
   "source": [
    "---"
   ]
  },
  {
   "cell_type": "markdown",
   "metadata": {},
   "source": [
    "# Огненная вспышка #"
   ]
  },
  {
   "cell_type": "markdown",
   "metadata": {},
   "source": [
    "Информация взята тут: <https://antonovsad.ru/ognevka-na-ryabine-yablone-grushe-i-boyaryshnike-2962/>\n",
    "\n",
    "<https://cyberleninka.ru/article/n/osobennosti-razvitiya-samshitovoy-ognevki-cydalima-perspectalis-walker-v-laboratornoy-kulture>\n",
    "\n",
    "<http://journalkubansad.ru/pdf/17/02/08.pdf>"
   ]
  },
  {
   "cell_type": "code",
   "execution_count": 158,
   "metadata": {},
   "outputs": [],
   "source": [
    "def infection_conditions (hum,temp):\n",
    "    if hum >90 and temp >= 16:\n",
    "        return 1\n",
    "    else: return 0\n",
    "    "
   ]
  },
  {
   "cell_type": "code",
   "execution_count": 159,
   "metadata": {},
   "outputs": [],
   "source": [
    "temp = [1,2,3,4,5,6,7,8,9,10]\n",
    "def symptoms(days, temp): ###зависимости от дневных температур, может занять от 5 до 30 календарных дней.\n",
    "    grad_day = 0\n",
    "    sum_temp = 0\n",
    "    for i in range(days):\n",
    "        sum_temp += temp[-i-1]\n",
    "        grad_days = sum_temp - 13 * days\n",
    "    if grad_days >= 57:\n",
    "        return 1\n",
    "    else: return 0"
   ]
  },
  {
   "cell_type": "code",
   "execution_count": 160,
   "metadata": {},
   "outputs": [
    {
     "data": {
      "text/plain": [
       "0"
      ]
     },
     "execution_count": 160,
     "metadata": {},
     "output_type": "execute_result"
    }
   ],
   "source": [
    "temp = [1,2,3,4,5,6,7,8,9,10]\n",
    "\n",
    "symptoms(5,temp)"
   ]
  },
  {
   "cell_type": "code",
   "execution_count": 161,
   "metadata": {},
   "outputs": [],
   "source": [
    "def papulation_hibernating_caterpillars(days,temp, mass_leaves_eaten):# масса листьев в граммах\n",
    "    if temp < 11 or days < 13:\n",
    "        count_caterpillars = 0\n",
    "        return count_caterpillars\n",
    "    else: count_caterpillars = mass_leaves_eaten / 60"
   ]
  },
  {
   "cell_type": "markdown",
   "metadata": {},
   "source": [
    "Информация взята тут: <https://antonovsad.ru/ognevka-na-ryabine-yablone-grushe-i-boyaryshnike-2962/>\n",
    "\n",
    "<https://cyberleninka.ru/article/n/osobennosti-razvitiya-samshitovoy-ognevki-cydalima-perspectalis-walker-v-laboratornoy-kulture>\n",
    "\n",
    "<http://journalkubansad.ru/pdf/17/02/08.pdf>"
   ]
  },
  {
   "cell_type": "code",
   "execution_count": 162,
   "metadata": {},
   "outputs": [],
   "source": [
    "def egg_laying(hours, temp, sun_time):\n",
    "    if temp < 18 or temp > 40 and sun_time > 8:\n",
    "        count_egg_laying = 0\n",
    "    else: egg_survival_rate = 1 #0,876\n",
    "    return egg_survival_rate"
   ]
  },
  {
   "cell_type": "markdown",
   "metadata": {},
   "source": [
    "---"
   ]
  },
  {
   "cell_type": "markdown",
   "metadata": {},
   "source": [
    "# Тресковая Моль (Плодожорка) #"
   ]
  },
  {
   "cell_type": "markdown",
   "metadata": {},
   "source": [
    "СЭТ(Сумма эффективных температур): С=(Т-П)*н, где Т - наблюдаемая температура, П - нижний порог развития, н - продолжительность периода развития. "
   ]
  },
  {
   "cell_type": "markdown",
   "metadata": {},
   "source": [
    "Информацция взята тут:<https://direct.farm/post/osobennosti-monitoringa-yablonnoy-plodozhorki-8501>\n",
    "\n",
    "<https://earthpapers.net/biologicheskoe-obosnovanie-tehnologii-regulirovaniya-chislennosti-yablonnoy-plodozhorki-cydia-pomonella-l-v-usloviyah-kra>\n",
    "\n",
    "<https://www.greeninfo.ru/protection_plants/index/jablonnaja-plodozhorka_art.html>"
   ]
  },
  {
   "cell_type": "code",
   "execution_count": 163,
   "metadata": {},
   "outputs": [],
   "source": [
    "temp = []#массив из средних температур в день\n",
    "def caterpillar_pupation(temp):\n",
    "    set = temp.sum - 10 * len(temp)\n",
    "    if 48 >= set:\n",
    "        pupation_rate < 32\n",
    "    if 48 <= set <= 65:\n",
    "        pupation_rate = 32\n",
    "    if 94 <= set <= 117:\n",
    "        pupation_rate = 62\n",
    "    if 147 <= set <= 160:\n",
    "        pupation_rate = 75\n",
    "    if set >= 65:\n",
    "        pupation_rate = 100\n",
    "    return papulation_rate    "
   ]
  },
  {
   "cell_type": "code",
   "execution_count": 164,
   "metadata": {},
   "outputs": [],
   "source": [
    "temp = []#массив из средних температур в день\n",
    "def presence_of_moth (temp):\n",
    "    set = sum(temp) - 10 * len(temp)\n",
    "    if set >= 230:\n",
    "        moth_presence = 1\n",
    "        return moth_presence\n",
    "    else: moth_presence = 0\n",
    "    return moth_presence"
   ]
  },
  {
   "cell_type": "markdown",
   "metadata": {},
   "source": [
    "Информация вязта тут: <https://fermer.ru/sovet/sadovodstvo/126479>"
   ]
  },
  {
   "cell_type": "code",
   "execution_count": 165,
   "metadata": {},
   "outputs": [],
   "source": [
    "temp = [1,2,3,4,5,6,7,8,9,10]\n",
    "def butterfly_roast(days, temp): ###зависимости от дневных температур, может занять от 5 до 30 календарных дней.\n",
    "    grad_day = 0\n",
    "    sum_temp = 0\n",
    "    for i in range(days):\n",
    "        sum_temp += temp[-i-1]\n",
    "        grad_days = sum_temp - 10 * days\n",
    "    return grad_days\n",
    "    if grad_days >= 130:\n",
    "        return 1 #из куколки отрождается бабочка\n",
    "    else: return 0"
   ]
  },
  {
   "cell_type": "code",
   "execution_count": 166,
   "metadata": {},
   "outputs": [],
   "source": [
    "temp = [1,2,3,4,5,6,7,8,9,10]\n",
    "def fruit_penetration(days, temp): ###зависимости от дневных температур, может занять от 5 до 30 календарных дней.\n",
    "    grad_day = 0\n",
    "    sum_temp = 0\n",
    "    for i in range(days):\n",
    "        sum_temp += temp[-i-1]\n",
    "        grad_days = sum_temp - 10 * days\n",
    "    return grad_days\n",
    "    if grad_days >= 230:\n",
    "        return 1 #из куколки отрождается бабочка\n",
    "    else: return 0"
   ]
  },
  {
   "cell_type": "code",
   "execution_count": 167,
   "metadata": {},
   "outputs": [],
   "source": [
    "def laying_rate_moth(temp):\n",
    "    if temp > 10 and temp <= 17:\n",
    "        percent_laying = temp * 100/7 - 1000/7\n",
    "        return percent_laying\n",
    "    else: \n",
    "        if temp > 19 and temp < 30:\n",
    "            percent_laying = -temp * 100/15 + 640/3\n",
    "            return percent_laying\n",
    "        else: percent_laying = -1 \n",
    "        return percent_laying"
   ]
  },
  {
   "cell_type": "markdown",
   "metadata": {},
   "source": [
    "# Тля на яблонях #"
   ]
  },
  {
   "cell_type": "markdown",
   "metadata": {},
   "source": [
    "Информацция взята тут:"
   ]
  },
  {
   "cell_type": "code",
   "execution_count": 168,
   "metadata": {},
   "outputs": [],
   "source": [
    "def comfort_hum(hum):\n",
    "    if 30 < hum > 95:\n",
    "        surv = 0\n",
    "        return surv\n",
    "    else: surv = 1\n",
    "    return surv"
   ]
  },
  {
   "cell_type": "code",
   "execution_count": 169,
   "metadata": {},
   "outputs": [],
   "source": [
    "def comfort_temp(temp):\n",
    "    if 20 < temp > 32:\n",
    "        surv = 0\n",
    "        return surv\n",
    "    else: surv = 1\n",
    "    return surv"
   ]
  },
  {
   "cell_type": "code",
   "execution_count": 170,
   "metadata": {},
   "outputs": [],
   "source": [
    "def laying_rate_Aphids (temp):\n",
    "    if temp > 5 and temp <= 25:\n",
    "        percent_laying = temp * 5 - 25\n",
    "        return percent_laying\n",
    "    else: \n",
    "        if temp > 25 and temp < 32:\n",
    "            percent_laying = -temp * 100/7 + 3200/7\n",
    "            return percent_laying\n",
    "        else: percent_laying = -1 \n",
    "        return percent_laying"
   ]
  }
 ],
 "metadata": {
  "kernelspec": {
   "display_name": "Python 3",
   "language": "python",
   "name": "python3"
  },
  "language_info": {
   "codemirror_mode": {
    "name": "ipython",
    "version": 3
   },
   "file_extension": ".py",
   "mimetype": "text/x-python",
   "name": "python",
   "nbconvert_exporter": "python",
   "pygments_lexer": "ipython3",
   "version": "3.11.4"
  },
  "orig_nbformat": 4
 },
 "nbformat": 4,
 "nbformat_minor": 2
}
