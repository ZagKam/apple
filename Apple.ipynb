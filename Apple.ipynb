{
 "cells": [
  {
   "cell_type": "code",
   "execution_count": 104,
   "metadata": {},
   "outputs": [],
   "source": [
    "import math\n",
    "from random import randint\n",
    "import statistics"
   ]
  },
  {
   "cell_type": "markdown",
   "metadata": {},
   "source": [
    "# Яблочная парша #"
   ]
  },
  {
   "cell_type": "markdown",
   "metadata": {},
   "source": [
    "Информация взята тут: <https://translated.turbopages.org/proxy_u/en-ru.ru.eaa0b6cc-64c8e3f9-35b95bff-74722d776562/https/pubmed.ncbi.nlm.nih.gov/18944849/>"
   ]
  },
  {
   "cell_type": "markdown",
   "metadata": {},
   "source": [
    "СЭТ(Сумма эффективных температур): С=(Т-П)*н, где Т - наблюдаемая температура, П - нижний порог развития, н - продолжительность периода развития. "
   ]
  },
  {
   "cell_type": "markdown",
   "metadata": {},
   "source": [
    "<div class=\"alert alert-warning\">\n",
    "<strong></strong> Формулы можно красиво оформлять маркдауном $$ - знаки доллора для обрамления формул. Еще по оформлению маркдауна: https://medium.com/analytics-vidhya/the-ultimate-markdown-guide-for-jupyter-notebook-d5e5abf728fd\n",
    "</div>\n"
   ]
  },
  {
   "cell_type": "markdown",
   "metadata": {},
   "source": [
    "Формула минимальных благоприятных условий для формирования акроспор"
   ]
  },
  {
   "cell_type": "code",
   "execution_count": 141,
   "metadata": {},
   "outputs": [],
   "source": [
    "temp = [i for i in range(61)]\n",
    "def apple_parsha_spore_formation_surviving(temp):\n",
    "    sum_temp = 0\n",
    "    for i in range(61):\n",
    "        sum_temp += temp[-i-1]\n",
    "    condition_formation = sum_temp - 10 * 60\n",
    "    if condition_formation > 0 and temp[-1] > 25:\n",
    "        beginning_formation = 1\n",
    "        return beginning_formation\n",
    "    else: beginning_formation = 0\n",
    "    return beginning_formation"
   ]
  },
  {
   "cell_type": "markdown",
   "metadata": {},
   "source": [
    "<div class=\"alert alert-warning\">\n",
    "<strong></strong> функцию следует пояснить текстовым описанием алгоритма расчета (дополнительно можно написать какие входные данные, что на выходе получаем - вероятность, число спор и т.д.) - глядя на функцию тяжело понять ее логику. Что за цикл до 61? и т.д.\n",
    "</div>\n"
   ]
  },
  {
   "cell_type": "code",
   "execution_count": 142,
   "metadata": {},
   "outputs": [
    {
     "data": {
      "text/plain": [
       "1"
      ]
     },
     "execution_count": 142,
     "metadata": {},
     "output_type": "execute_result"
    }
   ],
   "source": [
    "temp = [i for i in range(61)]\n",
    "apple_parsha_spore_formation_surviving(temp)"
   ]
  },
  {
   "cell_type": "markdown",
   "metadata": {},
   "source": [
    "<div class=\"alert alert-warning\">\n",
    "<strong></strong> т.е. температура меняется до 61 градуса? не очень понятно. поясни, пожалуйста\n",
    "</div>\n"
   ]
  },
  {
   "cell_type": "code",
   "execution_count": 143,
   "metadata": {},
   "outputs": [
    {
     "data": {
      "text/plain": [
       "0"
      ]
     },
     "execution_count": 143,
     "metadata": {},
     "output_type": "execute_result"
    }
   ],
   "source": [
    "temp = [-i for i in range(61)]\n",
    "apple_parsha_spore_formation_surviving(temp)"
   ]
  },
  {
   "cell_type": "markdown",
   "metadata": {},
   "source": [
    "<div class=\"alert alert-warning\">\n",
    "<strong></strong> Тоже самое касается других моделей. поясни их пожалуйста текстовым алгоритмом, чтобы все было прозрачно и понятно. Потом вместе сядем и придумаем тесты\n",
    "</div>\n"
   ]
  },
  {
   "cell_type": "markdown",
   "metadata": {},
   "source": [
    "Информация взята тут: <https://studbooks.net/1104519/agropromyshlennost/metody_ucheta_rasprostranyonnosti_razvitiya_bolezney>\n",
    "\n",
    "https://www.pesticidy.ru/%D0%9F%D0%B0%D1%80%D1%88%D0%B0_%D1%8F%D0%B1%D0%BB%D0%BE%D0%BD%D0%B8\n",
    "\n",
    "На основе данных выведена скорость прорастания спор в процентном соотношении"
   ]
  },
  {
   "cell_type": "code",
   "execution_count": 94,
   "metadata": {},
   "outputs": [],
   "source": [
    "def time_to_grow(hum,temp):\n",
    "    if hum > 70 and temp > 0 and temp <= 19: # если условие выполняется, то зависимость линейна от температуры\n",
    "        percent_growth = temp * 100/19\n",
    "        return percent_growth\n",
    "    else: \n",
    "        if hum > 70 and temp > 19 and temp < 30:\n",
    "            percent_growth = -temp * 3000/330 + 3000/11\n",
    "            return percent_growth\n",
    "        else: percent_growth = -1 #temp * 5.07\n",
    "        return percent_growth"
   ]
  },
  {
   "cell_type": "code",
   "execution_count": 147,
   "metadata": {},
   "outputs": [
    {
     "data": {
      "text/plain": [
       "-1"
      ]
     },
     "execution_count": 147,
     "metadata": {},
     "output_type": "execute_result"
    }
   ],
   "source": [
    "time_to_grow(80,-1)"
   ]
  },
  {
   "cell_type": "code",
   "execution_count": 95,
   "metadata": {},
   "outputs": [
    {
     "data": {
      "text/plain": [
       "26.31578947368421"
      ]
     },
     "execution_count": 95,
     "metadata": {},
     "output_type": "execute_result"
    }
   ],
   "source": [
    "time_to_grow(85,5)"
   ]
  },
  {
   "cell_type": "code",
   "execution_count": 97,
   "metadata": {},
   "outputs": [
    {
     "data": {
      "text/plain": [
       "52.63157894736842"
      ]
     },
     "execution_count": 97,
     "metadata": {},
     "output_type": "execute_result"
    }
   ],
   "source": [
    "time_to_grow(85,10)"
   ]
  },
  {
   "cell_type": "code",
   "execution_count": 98,
   "metadata": {},
   "outputs": [
    {
     "data": {
      "text/plain": [
       "78.94736842105263"
      ]
     },
     "execution_count": 98,
     "metadata": {},
     "output_type": "execute_result"
    }
   ],
   "source": [
    "time_to_grow(85,15)"
   ]
  },
  {
   "cell_type": "code",
   "execution_count": 99,
   "metadata": {},
   "outputs": [
    {
     "data": {
      "text/plain": [
       "90.90909090909093"
      ]
     },
     "execution_count": 99,
     "metadata": {},
     "output_type": "execute_result"
    }
   ],
   "source": [
    "time_to_grow(85,20)"
   ]
  },
  {
   "cell_type": "code",
   "execution_count": 100,
   "metadata": {},
   "outputs": [
    {
     "data": {
      "text/plain": [
       "45.45454545454547"
      ]
     },
     "execution_count": 100,
     "metadata": {},
     "output_type": "execute_result"
    }
   ],
   "source": [
    "time_to_grow(85,25)"
   ]
  },
  {
   "cell_type": "code",
   "execution_count": 101,
   "metadata": {},
   "outputs": [
    {
     "data": {
      "text/plain": [
       "9.090909090909122"
      ]
     },
     "execution_count": 101,
     "metadata": {},
     "output_type": "execute_result"
    }
   ],
   "source": [
    "time_to_grow(85,29)"
   ]
  },
  {
   "cell_type": "markdown",
   "metadata": {},
   "source": [
    "Информация взята тут: <http://berrylib.ru/books/item/f00/s00/z0000040/st004.shtml>\n",
    "\n",
    "На основе данных выведена функция описывающая зависимость длины инкубационного периода от температуры"
   ]
  },
  {
   "cell_type": "code",
   "execution_count": 105,
   "metadata": {},
   "outputs": [],
   "source": [
    "temp = []\n",
    "for i in range(20):\n",
    "    temp.append(randint(-30, 30))\n",
    "def parshas_incubation_period(temp):\n",
    "    mean = (temp[-1]+temp[-2]+temp[-3]+temp[-4]+temp[-5]) / 5\n",
    "    meanN = round(mean)\n",
    "    if mean > 0 and mean <= 25:\n",
    "        len_incubation_period = abs((24-mean)*2 / 3) + 6\n",
    "        return len_incubation_period\n",
    "    else: \n",
    "        return -1"
   ]
  },
  {
   "cell_type": "code",
   "execution_count": 150,
   "metadata": {},
   "outputs": [
    {
     "data": {
      "text/plain": [
       "-1"
      ]
     },
     "execution_count": 150,
     "metadata": {},
     "output_type": "execute_result"
    }
   ],
   "source": [
    "temp = []\n",
    "for i in range(20):\n",
    "    temp.append(randint(-30, 30)) \n",
    "parshas_incubation_period (temp)"
   ]
  },
  {
   "cell_type": "code",
   "execution_count": 151,
   "metadata": {},
   "outputs": [
    {
     "data": {
      "text/plain": [
       "10.666666666666668"
      ]
     },
     "execution_count": 151,
     "metadata": {},
     "output_type": "execute_result"
    }
   ],
   "source": [
    "temp = []\n",
    "for i in range(20):\n",
    "    temp.append(randint(1, 30)) \n",
    "parshas_incubation_period (temp)"
   ]
  },
  {
   "cell_type": "code",
   "execution_count": 106,
   "metadata": {},
   "outputs": [
    {
     "data": {
      "text/plain": [
       "14.799999999999999"
      ]
     },
     "execution_count": 106,
     "metadata": {},
     "output_type": "execute_result"
    }
   ],
   "source": [
    "temp = []\n",
    "for i in range(20):\n",
    "    temp.append(randint(1, 30)) \n",
    "parshas_incubation_period (temp)"
   ]
  },
  {
   "cell_type": "code",
   "execution_count": 107,
   "metadata": {},
   "outputs": [
    {
     "data": {
      "text/plain": [
       "13.466666666666665"
      ]
     },
     "execution_count": 107,
     "metadata": {},
     "output_type": "execute_result"
    }
   ],
   "source": [
    "temp = []\n",
    "for i in range(20):\n",
    "    temp.append(randint(1, 30)) \n",
    "parshas_incubation_period (temp)"
   ]
  },
  {
   "cell_type": "code",
   "execution_count": 108,
   "metadata": {},
   "outputs": [
    {
     "data": {
      "text/plain": [
       "8.0"
      ]
     },
     "execution_count": 108,
     "metadata": {},
     "output_type": "execute_result"
    }
   ],
   "source": [
    "temp = []\n",
    "for i in range(20):\n",
    "    temp.append(randint(1, 30)) \n",
    "parshas_incubation_period (temp)"
   ]
  },
  {
   "cell_type": "markdown",
   "metadata": {},
   "source": [
    "Информация взята тут: <https://www.pesticidy.ru/%D0%9F%D0%B0%D1%80%D1%88%D0%B0_%D1%8F%D0%B1%D0%BB%D0%BE%D0%BD%D0%B8>\n",
    "\n",
    "На основе данных построена функция описывающая влияние температуры на время прорастания спор"
   ]
  },
  {
   "cell_type": "code",
   "execution_count": 110,
   "metadata": {},
   "outputs": [],
   "source": [
    "def penetration_of_plant(hum,temp):\n",
    "    if hum < 80 or temp < 2 or temp > 30 :\n",
    "        return 0\n",
    "    else: time_penetration = abs((18-temp) / 3) + 4\n",
    "    return time_penetration"
   ]
  },
  {
   "cell_type": "code",
   "execution_count": 154,
   "metadata": {},
   "outputs": [
    {
     "data": {
      "text/plain": [
       "0"
      ]
     },
     "execution_count": 154,
     "metadata": {},
     "output_type": "execute_result"
    }
   ],
   "source": [
    "penetration_of_plant(70,20)"
   ]
  },
  {
   "cell_type": "code",
   "execution_count": 111,
   "metadata": {},
   "outputs": [
    {
     "data": {
      "text/plain": [
       "8.333333333333332"
      ]
     },
     "execution_count": 111,
     "metadata": {},
     "output_type": "execute_result"
    }
   ],
   "source": [
    "penetration_of_plant(90,5)"
   ]
  },
  {
   "cell_type": "code",
   "execution_count": 112,
   "metadata": {},
   "outputs": [
    {
     "data": {
      "text/plain": [
       "7.0"
      ]
     },
     "execution_count": 112,
     "metadata": {},
     "output_type": "execute_result"
    }
   ],
   "source": [
    "penetration_of_plant(90,9)"
   ]
  },
  {
   "cell_type": "code",
   "execution_count": 114,
   "metadata": {},
   "outputs": [
    {
     "data": {
      "text/plain": [
       "6.0"
      ]
     },
     "execution_count": 114,
     "metadata": {},
     "output_type": "execute_result"
    }
   ],
   "source": [
    "penetration_of_plant(90,12)"
   ]
  },
  {
   "cell_type": "code",
   "execution_count": 115,
   "metadata": {},
   "outputs": [
    {
     "data": {
      "text/plain": [
       "5.0"
      ]
     },
     "execution_count": 115,
     "metadata": {},
     "output_type": "execute_result"
    }
   ],
   "source": [
    "penetration_of_plant(90,15)"
   ]
  },
  {
   "cell_type": "code",
   "execution_count": 117,
   "metadata": {},
   "outputs": [
    {
     "data": {
      "text/plain": [
       "4.0"
      ]
     },
     "execution_count": 117,
     "metadata": {},
     "output_type": "execute_result"
    }
   ],
   "source": [
    "penetration_of_plant(90,18)"
   ]
  },
  {
   "cell_type": "code",
   "execution_count": 119,
   "metadata": {},
   "outputs": [
    {
     "data": {
      "text/plain": [
       "5.0"
      ]
     },
     "execution_count": 119,
     "metadata": {},
     "output_type": "execute_result"
    }
   ],
   "source": [
    "penetration_of_plant(90,21)"
   ]
  },
  {
   "cell_type": "markdown",
   "metadata": {},
   "source": [
    "---"
   ]
  },
  {
   "cell_type": "markdown",
   "metadata": {},
   "source": [
    "# Огненная вспышка #"
   ]
  },
  {
   "cell_type": "markdown",
   "metadata": {},
   "source": [
    "Информация взята тут: <https://antonovsad.ru/ognevka-na-ryabine-yablone-grushe-i-boyaryshnike-2962/>\n",
    "\n",
    "<https://cyberleninka.ru/article/n/osobennosti-razvitiya-samshitovoy-ognevki-cydalima-perspectalis-walker-v-laboratornoy-kulture>\n",
    "\n",
    "<http://journalkubansad.ru/pdf/17/02/08.pdf>"
   ]
  },
  {
   "cell_type": "markdown",
   "metadata": {},
   "source": [
    "Условия для заражения (при выполнении этих условий заражение происходит в течении нескольких минут)"
   ]
  },
  {
   "cell_type": "code",
   "execution_count": 19,
   "metadata": {},
   "outputs": [],
   "source": [
    "def infection_conditions (hum,temp):\n",
    "    if hum >90 and temp >= 16:\n",
    "        return 1\n",
    "    else: return 0\n",
    "    "
   ]
  },
  {
   "cell_type": "code",
   "execution_count": 20,
   "metadata": {},
   "outputs": [
    {
     "data": {
      "text/plain": [
       "1"
      ]
     },
     "execution_count": 20,
     "metadata": {},
     "output_type": "execute_result"
    }
   ],
   "source": [
    "infection_conditions(95,17)"
   ]
  },
  {
   "cell_type": "code",
   "execution_count": 21,
   "metadata": {},
   "outputs": [
    {
     "data": {
      "text/plain": [
       "0"
      ]
     },
     "execution_count": 21,
     "metadata": {},
     "output_type": "execute_result"
    }
   ],
   "source": [
    "infection_conditions(95,14)"
   ]
  },
  {
   "cell_type": "code",
   "execution_count": 22,
   "metadata": {},
   "outputs": [
    {
     "data": {
      "text/plain": [
       "0"
      ]
     },
     "execution_count": 22,
     "metadata": {},
     "output_type": "execute_result"
    }
   ],
   "source": [
    "infection_conditions(55,17)"
   ]
  },
  {
   "cell_type": "code",
   "execution_count": 24,
   "metadata": {},
   "outputs": [
    {
     "data": {
      "text/plain": [
       "0"
      ]
     },
     "execution_count": 24,
     "metadata": {},
     "output_type": "execute_result"
    }
   ],
   "source": [
    "infection_conditions(45,11)"
   ]
  },
  {
   "cell_type": "code",
   "execution_count": 1,
   "metadata": {},
   "outputs": [],
   "source": [
    "temp = [1,2,3,4,5,6,7,8,9,10]\n",
    "def symptoms(days, temp): ###зависимости от дневных температур, может занять от 5 до 30 календарных дней.\n",
    "    grad_day = 0\n",
    "    sum_temp = 0\n",
    "    for i in range(days):\n",
    "        sum_temp += temp[-i-1]\n",
    "        grad_days = sum_temp - 13 * days\n",
    "    if grad_days >= 57:\n",
    "        return 1\n",
    "    else: return 0"
   ]
  },
  {
   "cell_type": "code",
   "execution_count": 10,
   "metadata": {},
   "outputs": [
    {
     "data": {
      "text/plain": [
       "1"
      ]
     },
     "execution_count": 10,
     "metadata": {},
     "output_type": "execute_result"
    }
   ],
   "source": [
    "temp = [1,2,3,4,5,6,7,8,9,10,16,16,16,16,16,16,16,16,16,16,16,16,16,16,16,16,16,16,16,16]\n",
    "\n",
    "symptoms(19,temp)"
   ]
  },
  {
   "cell_type": "code",
   "execution_count": 12,
   "metadata": {},
   "outputs": [
    {
     "data": {
      "text/plain": [
       "0"
      ]
     },
     "execution_count": 12,
     "metadata": {},
     "output_type": "execute_result"
    }
   ],
   "source": [
    "temp = [1,2,3,4,5,6,7,8,9,10,16,16,16,16,16,16,16,16,16,16,16,16,16,16,16,16,16,16,16,15]\n",
    "\n",
    "symptoms(19,temp)"
   ]
  },
  {
   "cell_type": "markdown",
   "metadata": {},
   "source": [
    "Зависимость количества гусениц от съеденых листьев"
   ]
  },
  {
   "cell_type": "code",
   "execution_count": 27,
   "metadata": {},
   "outputs": [],
   "source": [
    "def papulation_hibernating_caterpillars(mass_leaves_eaten):# масса листьев в граммах\n",
    "    count_caterpillars = round(mass_leaves_eaten / 60)\n",
    "    return count_caterpillars"
   ]
  },
  {
   "cell_type": "code",
   "execution_count": 29,
   "metadata": {},
   "outputs": [
    {
     "data": {
      "text/plain": [
       "61"
      ]
     },
     "execution_count": 29,
     "metadata": {},
     "output_type": "execute_result"
    }
   ],
   "source": [
    "papulation_hibernating_caterpillars(3640)"
   ]
  },
  {
   "cell_type": "markdown",
   "metadata": {},
   "source": [
    "Информация взята тут: <https://antonovsad.ru/ognevka-na-ryabine-yablone-grushe-i-boyaryshnike-2962/>\n",
    "\n",
    "<https://cyberleninka.ru/article/n/osobennosti-razvitiya-samshitovoy-ognevki-cydalima-perspectalis-walker-v-laboratornoy-kulture>\n",
    "\n",
    "<http://journalkubansad.ru/pdf/17/02/08.pdf>"
   ]
  },
  {
   "cell_type": "markdown",
   "metadata": {},
   "source": [
    "Условия для откладки яиц"
   ]
  },
  {
   "cell_type": "code",
   "execution_count": 37,
   "metadata": {},
   "outputs": [],
   "source": [
    "def egg_laying(temp, sun_time):\n",
    "    if temp < 18 or temp > 40 or sun_time > 8:\n",
    "        egg_supply_laying = 0\n",
    "    else: egg_supply_laying = 1 #0,876\n",
    "    return egg_supply_laying"
   ]
  },
  {
   "cell_type": "code",
   "execution_count": 38,
   "metadata": {},
   "outputs": [
    {
     "data": {
      "text/plain": [
       "0"
      ]
     },
     "execution_count": 38,
     "metadata": {},
     "output_type": "execute_result"
    }
   ],
   "source": [
    "egg_laying(12,9)"
   ]
  },
  {
   "cell_type": "code",
   "execution_count": 39,
   "metadata": {},
   "outputs": [
    {
     "data": {
      "text/plain": [
       "1"
      ]
     },
     "execution_count": 39,
     "metadata": {},
     "output_type": "execute_result"
    }
   ],
   "source": [
    "egg_laying(20,4)"
   ]
  },
  {
   "cell_type": "code",
   "execution_count": 40,
   "metadata": {},
   "outputs": [
    {
     "data": {
      "text/plain": [
       "0"
      ]
     },
     "execution_count": 40,
     "metadata": {},
     "output_type": "execute_result"
    }
   ],
   "source": [
    "egg_laying(41,6)"
   ]
  },
  {
   "cell_type": "code",
   "execution_count": 41,
   "metadata": {},
   "outputs": [
    {
     "data": {
      "text/plain": [
       "0"
      ]
     },
     "execution_count": 41,
     "metadata": {},
     "output_type": "execute_result"
    }
   ],
   "source": [
    "egg_laying(17,4)"
   ]
  },
  {
   "cell_type": "markdown",
   "metadata": {},
   "source": [
    "---"
   ]
  },
  {
   "cell_type": "markdown",
   "metadata": {},
   "source": [
    "# Тресковая Моль (Плодожорка) #"
   ]
  },
  {
   "cell_type": "markdown",
   "metadata": {},
   "source": [
    "СЭТ(Сумма эффективных температур): С=(Т-П)*н, где Т - наблюдаемая температура, П - нижний порог развития, н - продолжительность периода развития. "
   ]
  },
  {
   "cell_type": "markdown",
   "metadata": {},
   "source": [
    "Информацция взята тут:<https://direct.farm/post/osobennosti-monitoringa-yablonnoy-plodozhorki-8501>\n",
    "\n",
    "<https://earthpapers.net/biologicheskoe-obosnovanie-tehnologii-regulirovaniya-chislennosti-yablonnoy-plodozhorki-cydia-pomonella-l-v-usloviyah-kra>\n",
    "\n",
    "<https://www.greeninfo.ru/protection_plants/index/jablonnaja-plodozhorka_art.html>"
   ]
  },
  {
   "cell_type": "code",
   "execution_count": 163,
   "metadata": {},
   "outputs": [],
   "source": [
    "#temp = []#массив из средних температур в день\n",
    "#def caterpillar_pupation(temp):\n",
    " #   set = temp.sum - 10 * len(temp)\n",
    "  #  if 48 >= set:\n",
    "   #     pupation_rate < 32\n",
    "    #if 48 <= set <= 65:\n",
    "     #   pupation_rate = 32\n",
    "    #if 94 <= set <= 117:\n",
    "     #   pupation_rate = 62\n",
    "    #if 147 <= set <= 160:\n",
    "     #   pupation_rate = 75\n",
    "    #if set >= 65:\n",
    "     #   pupation_rate = 100\n",
    "    #return papulation_rate    "
   ]
  },
  {
   "cell_type": "markdown",
   "metadata": {},
   "source": [
    "Условия для появления тресковой моли"
   ]
  },
  {
   "cell_type": "code",
   "execution_count": 42,
   "metadata": {},
   "outputs": [],
   "source": [
    "temp = []#массив из средних температур в день\n",
    "def presence_of_moth (temp):\n",
    "    set = sum(temp) - 10 * len(temp)\n",
    "    if set >= 230:\n",
    "        moth_presence = 1\n",
    "        return moth_presence\n",
    "    else: moth_presence = 0\n",
    "    return moth_presence"
   ]
  },
  {
   "cell_type": "code",
   "execution_count": 51,
   "metadata": {},
   "outputs": [
    {
     "data": {
      "text/plain": [
       "0"
      ]
     },
     "execution_count": 51,
     "metadata": {},
     "output_type": "execute_result"
    }
   ],
   "source": [
    "temp = [33,33,33,33,33,33,33,33,33,32]\n",
    "presence_of_moth(temp)"
   ]
  },
  {
   "cell_type": "code",
   "execution_count": 52,
   "metadata": {},
   "outputs": [
    {
     "data": {
      "text/plain": [
       "1"
      ]
     },
     "execution_count": 52,
     "metadata": {},
     "output_type": "execute_result"
    }
   ],
   "source": [
    "temp = [33,33,33,33,33,33,33,33,33,33]\n",
    "presence_of_moth(temp)"
   ]
  },
  {
   "cell_type": "markdown",
   "metadata": {},
   "source": [
    "Информация вязта тут: <https://fermer.ru/sovet/sadovodstvo/126479>\n",
    "\n",
    "при выполнении условия начинается развитие плодожорки"
   ]
  },
  {
   "cell_type": "code",
   "execution_count": 56,
   "metadata": {},
   "outputs": [],
   "source": [
    "temp = [1,2,3,4,5,6,7,8,9,10]\n",
    "def butterfly_roast(days, temp): \n",
    "    sum_temp = 0\n",
    "    for i in range(days):\n",
    "        sum_temp += temp[-i-1]\n",
    "        grad_days = sum_temp - 10 * days\n",
    "    if grad_days >= 130:\n",
    "        return 1 #из куколки отрождается бабочка\n",
    "    else: return 0"
   ]
  },
  {
   "cell_type": "code",
   "execution_count": 58,
   "metadata": {},
   "outputs": [
    {
     "data": {
      "text/plain": [
       "0"
      ]
     },
     "execution_count": 58,
     "metadata": {},
     "output_type": "execute_result"
    }
   ],
   "source": [
    "temp = [23,23,23,23,23,23,23,23,23,22]\n",
    "butterfly_roast(10,temp)"
   ]
  },
  {
   "cell_type": "code",
   "execution_count": 59,
   "metadata": {},
   "outputs": [
    {
     "data": {
      "text/plain": [
       "1"
      ]
     },
     "execution_count": 59,
     "metadata": {},
     "output_type": "execute_result"
    }
   ],
   "source": [
    "temp = [23,23,23,23,23,23,23,23,23,23]\n",
    "butterfly_roast(10,temp)"
   ]
  },
  {
   "cell_type": "markdown",
   "metadata": {},
   "source": [
    "Информация вязта тут: <https://fermer.ru/sovet/sadovodstvo/126479>"
   ]
  },
  {
   "cell_type": "markdown",
   "metadata": {},
   "source": [
    "условия для проникновения в фрукт"
   ]
  },
  {
   "cell_type": "code",
   "execution_count": 62,
   "metadata": {},
   "outputs": [],
   "source": [
    "temp = [1,2,3,4,5,6,7,8,9,10]\n",
    "def fruit_penetration(days, temp): ###зависимости от дневных температур, может занять от 5 до 30 календарных дней.\n",
    "    grad_day = 0\n",
    "    sum_temp = 0\n",
    "    for i in range(days):\n",
    "        sum_temp += temp[-i-1]\n",
    "        grad_days = sum_temp - 10 * days\n",
    "    if grad_days >= 230:\n",
    "        return 1 #из куколки отрождается бабочка\n",
    "    else: return 0"
   ]
  },
  {
   "cell_type": "code",
   "execution_count": 63,
   "metadata": {},
   "outputs": [
    {
     "data": {
      "text/plain": [
       "1"
      ]
     },
     "execution_count": 63,
     "metadata": {},
     "output_type": "execute_result"
    }
   ],
   "source": [
    "temp = [33,33,33,33,33,33,33,33,33,33]\n",
    "fruit_penetration(10,temp)"
   ]
  },
  {
   "cell_type": "code",
   "execution_count": 64,
   "metadata": {},
   "outputs": [
    {
     "data": {
      "text/plain": [
       "0"
      ]
     },
     "execution_count": 64,
     "metadata": {},
     "output_type": "execute_result"
    }
   ],
   "source": [
    "temp = [33,33,33,33,33,33,33,33,33,32]\n",
    "fruit_penetration(10,temp)"
   ]
  },
  {
   "cell_type": "markdown",
   "metadata": {},
   "source": [
    "Скорость откладки яиц в процентном отношениия"
   ]
  },
  {
   "cell_type": "code",
   "execution_count": 65,
   "metadata": {},
   "outputs": [],
   "source": [
    "def laying_rate_moth(temp):\n",
    "    if temp > 10 and temp <= 17:\n",
    "        percent_laying = temp * 100/7 - 1000/7\n",
    "        return percent_laying\n",
    "    else: \n",
    "        if temp > 17 and temp < 30:\n",
    "            percent_laying = -temp * 100/15 + 640/3\n",
    "            return percent_laying\n",
    "        else: percent_laying = -1 \n",
    "        return percent_laying"
   ]
  },
  {
   "cell_type": "code",
   "execution_count": 66,
   "metadata": {},
   "outputs": [
    {
     "data": {
      "text/plain": [
       "14.285714285714278"
      ]
     },
     "execution_count": 66,
     "metadata": {},
     "output_type": "execute_result"
    }
   ],
   "source": [
    "laying_rate_moth(11)"
   ]
  },
  {
   "cell_type": "code",
   "execution_count": 67,
   "metadata": {},
   "outputs": [
    {
     "data": {
      "text/plain": [
       "57.14285714285714"
      ]
     },
     "execution_count": 67,
     "metadata": {},
     "output_type": "execute_result"
    }
   ],
   "source": [
    "laying_rate_moth(14)"
   ]
  },
  {
   "cell_type": "code",
   "execution_count": 69,
   "metadata": {},
   "outputs": [
    {
     "data": {
      "text/plain": [
       "100.0"
      ]
     },
     "execution_count": 69,
     "metadata": {},
     "output_type": "execute_result"
    }
   ],
   "source": [
    "laying_rate_moth(17)"
   ]
  },
  {
   "cell_type": "code",
   "execution_count": 71,
   "metadata": {},
   "outputs": [
    {
     "data": {
      "text/plain": [
       "80.0"
      ]
     },
     "execution_count": 71,
     "metadata": {},
     "output_type": "execute_result"
    }
   ],
   "source": [
    "laying_rate_moth(20)"
   ]
  },
  {
   "cell_type": "code",
   "execution_count": 72,
   "metadata": {},
   "outputs": [
    {
     "data": {
      "text/plain": [
       "60.0"
      ]
     },
     "execution_count": 72,
     "metadata": {},
     "output_type": "execute_result"
    }
   ],
   "source": [
    "laying_rate_moth(23)"
   ]
  },
  {
   "cell_type": "code",
   "execution_count": 73,
   "metadata": {},
   "outputs": [
    {
     "data": {
      "text/plain": [
       "40.0"
      ]
     },
     "execution_count": 73,
     "metadata": {},
     "output_type": "execute_result"
    }
   ],
   "source": [
    "laying_rate_moth(26)"
   ]
  },
  {
   "cell_type": "code",
   "execution_count": 74,
   "metadata": {},
   "outputs": [
    {
     "data": {
      "text/plain": [
       "20.0"
      ]
     },
     "execution_count": 74,
     "metadata": {},
     "output_type": "execute_result"
    }
   ],
   "source": [
    "laying_rate_moth(29)"
   ]
  },
  {
   "cell_type": "markdown",
   "metadata": {},
   "source": [
    "# Тля на яблонях #"
   ]
  },
  {
   "cell_type": "markdown",
   "metadata": {},
   "source": [
    "Информацция взята тут:<https://metos.at/ru/disease-models-apple/#>"
   ]
  },
  {
   "cell_type": "markdown",
   "metadata": {},
   "source": [
    "При выполнении этих условий происходит заражение"
   ]
  },
  {
   "cell_type": "code",
   "execution_count": 79,
   "metadata": {},
   "outputs": [],
   "source": [
    "def comfort_hum(hum):\n",
    "    if 30 < hum < 95:\n",
    "        infect = 1\n",
    "        return infect\n",
    "    else: infect = 0\n",
    "    return infect"
   ]
  },
  {
   "cell_type": "code",
   "execution_count": 80,
   "metadata": {},
   "outputs": [
    {
     "data": {
      "text/plain": [
       "0"
      ]
     },
     "execution_count": 80,
     "metadata": {},
     "output_type": "execute_result"
    }
   ],
   "source": [
    "comfort_hum(15)"
   ]
  },
  {
   "cell_type": "code",
   "execution_count": 81,
   "metadata": {},
   "outputs": [
    {
     "data": {
      "text/plain": [
       "1"
      ]
     },
     "execution_count": 81,
     "metadata": {},
     "output_type": "execute_result"
    }
   ],
   "source": [
    "comfort_hum(35)"
   ]
  },
  {
   "cell_type": "code",
   "execution_count": 83,
   "metadata": {},
   "outputs": [
    {
     "data": {
      "text/plain": [
       "0"
      ]
     },
     "execution_count": 83,
     "metadata": {},
     "output_type": "execute_result"
    }
   ],
   "source": [
    "comfort_hum(96)"
   ]
  },
  {
   "cell_type": "markdown",
   "metadata": {},
   "source": [
    "При выполнении этих условий происходит заражение"
   ]
  },
  {
   "cell_type": "code",
   "execution_count": 88,
   "metadata": {},
   "outputs": [],
   "source": [
    "def comfort_temp(temp):\n",
    "    if 20 < temp < 32:\n",
    "        infect = 1\n",
    "        return infect\n",
    "    else: infect = 0\n",
    "    return infect"
   ]
  },
  {
   "cell_type": "code",
   "execution_count": 89,
   "metadata": {},
   "outputs": [
    {
     "data": {
      "text/plain": [
       "0"
      ]
     },
     "execution_count": 89,
     "metadata": {},
     "output_type": "execute_result"
    }
   ],
   "source": [
    "comfort_temp(15)"
   ]
  },
  {
   "cell_type": "code",
   "execution_count": 90,
   "metadata": {},
   "outputs": [
    {
     "data": {
      "text/plain": [
       "1"
      ]
     },
     "execution_count": 90,
     "metadata": {},
     "output_type": "execute_result"
    }
   ],
   "source": [
    "comfort_temp(25)"
   ]
  },
  {
   "cell_type": "code",
   "execution_count": 92,
   "metadata": {},
   "outputs": [
    {
     "data": {
      "text/plain": [
       "0"
      ]
     },
     "execution_count": 92,
     "metadata": {},
     "output_type": "execute_result"
    }
   ],
   "source": [
    "comfort_temp(35)"
   ]
  },
  {
   "cell_type": "markdown",
   "metadata": {},
   "source": [
    "Информация взята тут: <https://tulrb.ru/info/interesnoe/pri-kakoj-temperature-pogibaet-tlya>"
   ]
  },
  {
   "cell_type": "markdown",
   "metadata": {},
   "source": [
    "Скорость откладки яиц в процентном соотношении"
   ]
  },
  {
   "cell_type": "code",
   "execution_count": 120,
   "metadata": {},
   "outputs": [],
   "source": [
    "def laying_rate_Aphids (temp):\n",
    "    if temp > 5 and temp <= 25:\n",
    "        percent_laying = temp * 5 - 25\n",
    "        return percent_laying\n",
    "    else: \n",
    "        if temp > 25 and temp < 32:\n",
    "            percent_laying = -temp * 100/7 + 3200/7\n",
    "            return percent_laying\n",
    "        else: percent_laying = -1 \n",
    "        return percent_laying"
   ]
  },
  {
   "cell_type": "code",
   "execution_count": 121,
   "metadata": {},
   "outputs": [
    {
     "data": {
      "text/plain": [
       "5"
      ]
     },
     "execution_count": 121,
     "metadata": {},
     "output_type": "execute_result"
    }
   ],
   "source": [
    "laying_rate_Aphids(6)"
   ]
  },
  {
   "cell_type": "code",
   "execution_count": 122,
   "metadata": {},
   "outputs": [
    {
     "data": {
      "text/plain": [
       "25"
      ]
     },
     "execution_count": 122,
     "metadata": {},
     "output_type": "execute_result"
    }
   ],
   "source": [
    "laying_rate_Aphids(10)"
   ]
  },
  {
   "cell_type": "code",
   "execution_count": 123,
   "metadata": {},
   "outputs": [
    {
     "data": {
      "text/plain": [
       "50"
      ]
     },
     "execution_count": 123,
     "metadata": {},
     "output_type": "execute_result"
    }
   ],
   "source": [
    "laying_rate_Aphids(15)"
   ]
  },
  {
   "cell_type": "code",
   "execution_count": 124,
   "metadata": {},
   "outputs": [
    {
     "data": {
      "text/plain": [
       "75"
      ]
     },
     "execution_count": 124,
     "metadata": {},
     "output_type": "execute_result"
    }
   ],
   "source": [
    "laying_rate_Aphids(20)"
   ]
  },
  {
   "cell_type": "code",
   "execution_count": 125,
   "metadata": {},
   "outputs": [
    {
     "data": {
      "text/plain": [
       "100"
      ]
     },
     "execution_count": 125,
     "metadata": {},
     "output_type": "execute_result"
    }
   ],
   "source": [
    "laying_rate_Aphids(25)"
   ]
  },
  {
   "cell_type": "code",
   "execution_count": 127,
   "metadata": {},
   "outputs": [
    {
     "data": {
      "text/plain": [
       "14.285714285714334"
      ]
     },
     "execution_count": 127,
     "metadata": {},
     "output_type": "execute_result"
    }
   ],
   "source": [
    "laying_rate_Aphids(31)"
   ]
  },
  {
   "cell_type": "code",
   "execution_count": null,
   "metadata": {},
   "outputs": [],
   "source": []
  }
 ],
 "metadata": {
  "kernelspec": {
   "display_name": "Python 3",
   "language": "python",
   "name": "python3"
  },
  "language_info": {
   "codemirror_mode": {
    "name": "ipython",
    "version": 3
   },
   "file_extension": ".py",
   "mimetype": "text/x-python",
   "name": "python",
   "nbconvert_exporter": "python",
   "pygments_lexer": "ipython3",
   "version": "3.11.4"
  },
  "orig_nbformat": 4
 },
 "nbformat": 4,
 "nbformat_minor": 2
}
