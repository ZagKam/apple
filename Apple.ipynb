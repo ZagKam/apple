{
 "cells": [
  {
   "cell_type": "code",
   "execution_count": null,
   "metadata": {},
   "outputs": [],
   "source": [
    "import math"
   ]
  },
  {
   "cell_type": "code",
   "execution_count": 23,
   "metadata": {},
   "outputs": [],
   "source": [
    "def apple_parsha_spore_formation_surviving(hours,t):\n",
    "    if hours < 1440 or t < 10 or t > 25:\n",
    "        count_of_spore = 0\n",
    "        return count_of_spore\n",
    "    else: spore_survival_rate = spore_survival_rate * 0.92\n",
    "    return spore_survival_rate"
   ]
  },
  {
   "cell_type": "code",
   "execution_count": 28,
   "metadata": {},
   "outputs": [],
   "source": [
    "def koef_for_dependence_growth(hum,t):# время в минутах\n",
    "    if hum > 70 and t > 0 :#если условие выполняется, то зависимость линейна от температуры\n",
    "        koef_growth = t\n",
    "        return koef_growth\n",
    "    else: count_of_ripe_spore = t * 5.07\n",
    "    return count_of_ripe_spore"
   ]
  },
  {
   "cell_type": "code",
   "execution_count": 33,
   "metadata": {},
   "outputs": [],
   "source": [
    "def apple_parsha_completely_dead(hours,t):\n",
    "    if hours > 3 and t <= -3 or t > 25:\n",
    "        parsha_count = 0\n",
    "        return parsha_count\n",
    "    else: len_incubation_period = abs((24-t)*2 / 3) + 6\n",
    "    return len_incubation_period"
   ]
  },
  {
   "cell_type": "code",
   "execution_count": 8,
   "metadata": {},
   "outputs": [],
   "source": [
    "def _of_plant(hum,t):\n",
    "    if hum < 80 or t < 2 or t > 30 :\n",
    "        return 0\n",
    "    else: temp_of_time_penetration = abs((18-t) / 3) + 4\n",
    "    return temp_of_time_penetration"
   ]
  },
  {
   "cell_type": "code",
   "execution_count": null,
   "metadata": {},
   "outputs": [],
   "source": [
    "def apple:"
   ]
  },
  {
   "cell_type": "code",
   "execution_count": 5,
   "metadata": {},
   "outputs": [
    {
     "data": {
      "text/plain": [
       "34"
      ]
     },
     "execution_count": 5,
     "metadata": {},
     "output_type": "execute_result"
    }
   ],
   "source": []
  }
 ],
 "metadata": {
  "kernelspec": {
   "display_name": "Python 3",
   "language": "python",
   "name": "python3"
  },
  "language_info": {
   "codemirror_mode": {
    "name": "ipython",
    "version": 3
   },
   "file_extension": ".py",
   "mimetype": "text/x-python",
   "name": "python",
   "nbconvert_exporter": "python",
   "pygments_lexer": "ipython3",
   "version": "3.11.4"
  },
  "orig_nbformat": 4
 },
 "nbformat": 4,
 "nbformat_minor": 2
}
