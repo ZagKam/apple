{
 "cells": [
  {
   "cell_type": "code",
   "execution_count": 1,
   "metadata": {},
   "outputs": [],
   "source": [
    "import math"
   ]
  },
  {
   "cell_type": "markdown",
   "metadata": {},
   "source": [
    "# Яблочная парша #"
   ]
  },
  {
   "cell_type": "markdown",
   "metadata": {},
   "source": [
    "Информация взята тут: <https://translated.turbopages.org/proxy_u/en-ru.ru.eaa0b6cc-64c8e3f9-35b95bff-74722d776562/https/pubmed.ncbi.nlm.nih.gov/18944849/>"
   ]
  },
  {
   "cell_type": "code",
   "execution_count": 7,
   "metadata": {},
   "outputs": [],
   "source": [
    "def apple_parsha_spore_formation_surviving(hours,temp):\n",
    "    if hours < 1440 or temp < 10 or temp > 25:\n",
    "        count_of_spore = 0\n",
    "        return count_of_spore\n",
    "    else: spore_survival_rate = 0.92\n",
    "    return spore_survival_rate"
   ]
  },
  {
   "cell_type": "markdown",
   "metadata": {},
   "source": [
    "Информация взята тут: <https://studbooks.net/1104519/agropromyshlennost/metody_ucheta_rasprostranyonnosti_razvitiya_bolezney>\n",
    "\n",
    "На основе данных выведено среднее значение коэффициента: 5.07"
   ]
  },
  {
   "cell_type": "code",
   "execution_count": 9,
   "metadata": {},
   "outputs": [],
   "source": [
    "def koef_for_dependence_growth(hum,temp):# время в минутах\n",
    "    if hum > 70 and temp > 0 :#если условие выполняется, то зависимость линейна от температуры\n",
    "        koef_growth = temp\n",
    "        return koef_growth\n",
    "    else: count_of_ripe_spore = temp * 5.07\n",
    "    return count_of_ripe_spore"
   ]
  },
  {
   "cell_type": "markdown",
   "metadata": {},
   "source": [
    "Информация взята тут: <http://berrylib.ru/books/item/f00/s00/z0000040/st004.shtml>\n",
    "\n",
    "На основе данных выведена функция описывающая влияние температуры на время инкубационного периода"
   ]
  },
  {
   "cell_type": "code",
   "execution_count": 10,
   "metadata": {},
   "outputs": [],
   "source": [
    "def apple_parsha_completely_dead(hours,temp):\n",
    "    if hours > 3 and temp <= -3 or temp > 25:\n",
    "        parsha_count = 0\n",
    "        return parsha_count\n",
    "    else: len_incubation_period = abs((24-temp)*2 / 3) + 6\n",
    "    return len_incubation_period"
   ]
  },
  {
   "cell_type": "markdown",
   "metadata": {},
   "source": [
    "Информация взята тут: <https://www.pesticidy.ru/%D0%9F%D0%B0%D1%80%D1%88%D0%B0_%D1%8F%D0%B1%D0%BB%D0%BE%D0%BD%D0%B8>\n",
    "\n",
    "На основе данных построена функция описывающая влияние температуры на время прорастания спор"
   ]
  },
  {
   "cell_type": "code",
   "execution_count": 8,
   "metadata": {},
   "outputs": [],
   "source": [
    "def penetration_of_plant(hum,temp):\n",
    "    if hum < 80 or temp < 2 or temp > 30 :\n",
    "        return 0\n",
    "    else: time_penetration = abs((18-temp) / 3) + 4\n",
    "    return time_penetration"
   ]
  },
  {
   "cell_type": "markdown",
   "metadata": {},
   "source": [
    "---"
   ]
  },
  {
   "cell_type": "markdown",
   "metadata": {},
   "source": [
    "# Огненная вспышка #"
   ]
  },
  {
   "cell_type": "markdown",
   "metadata": {},
   "source": [
    "Информация взята тут: <https://antonovsad.ru/ognevka-na-ryabine-yablone-grushe-i-boyaryshnike-2962/>\n",
    "\n",
    "<https://cyberleninka.ru/article/n/osobennosti-razvitiya-samshitovoy-ognevki-cydalima-perspectalis-walker-v-laboratornoy-kulture>\n",
    "\n",
    "<http://journalkubansad.ru/pdf/17/02/08.pdf>"
   ]
  },
  {
   "cell_type": "code",
   "execution_count": 13,
   "metadata": {},
   "outputs": [],
   "source": [
    "def papulation_hibernating_caterpillars(days,temp, mass_leaves_eaten):# масса листьев в граммах\n",
    "    if temp < 11 or days < 13:\n",
    "        count_caterpillars = 0\n",
    "        return count_caterpillars\n",
    "    else: count_caterpillars = mass_leaves_eaten / 60"
   ]
  },
  {
   "cell_type": "markdown",
   "metadata": {},
   "source": [
    "Информация взята тут: <https://antonovsad.ru/ognevka-na-ryabine-yablone-grushe-i-boyaryshnike-2962/>\n",
    "\n",
    "<https://cyberleninka.ru/article/n/osobennosti-razvitiya-samshitovoy-ognevki-cydalima-perspectalis-walker-v-laboratornoy-kulture>\n",
    "\n",
    "<http://journalkubansad.ru/pdf/17/02/08.pdf>"
   ]
  },
  {
   "cell_type": "code",
   "execution_count": null,
   "metadata": {},
   "outputs": [],
   "source": [
    "def egg_laying(hours, temp, sun_time):\n",
    "    if temp < 18 or temp > 40 and sun_time > 8:\n",
    "        count_egg_laying = 0\n",
    "    else: egg_survival_rate = 87,6\n",
    "    return egg_survival_rate"
   ]
  },
  {
   "cell_type": "markdown",
   "metadata": {},
   "source": [
    "---"
   ]
  },
  {
   "cell_type": "markdown",
   "metadata": {},
   "source": [
    "# Тресковая Моль #"
   ]
  },
  {
   "cell_type": "code",
   "execution_count": null,
   "metadata": {},
   "outputs": [],
   "source": []
  },
  {
   "cell_type": "code",
   "execution_count": null,
   "metadata": {},
   "outputs": [],
   "source": []
  }
 ],
 "metadata": {
  "kernelspec": {
   "display_name": "Python 3",
   "language": "python",
   "name": "python3"
  },
  "language_info": {
   "codemirror_mode": {
    "name": "ipython",
    "version": 3
   },
   "file_extension": ".py",
   "mimetype": "text/x-python",
   "name": "python",
   "nbconvert_exporter": "python",
   "pygments_lexer": "ipython3",
   "version": "3.11.4"
  },
  "orig_nbformat": 4
 },
 "nbformat": 4,
 "nbformat_minor": 2
}
