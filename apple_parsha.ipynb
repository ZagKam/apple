{
 "cells": [
  {
   "cell_type": "code",
   "execution_count": 32,
   "metadata": {},
   "outputs": [],
   "source": [
    "import math\n",
    "import matplotlib.pyplot as plt\n",
    "import matplotlib.dates as mdates\n",
    "import pandas as pd\n",
    "from random import randint\n",
    "import seaborn as sns\n",
    "import statistics"
   ]
  },
  {
   "cell_type": "markdown",
   "metadata": {},
   "source": [
    "Информация взята тут: <https://studbooks.net/1104519/agropromyshlennost/metody_ucheta_rasprostranyonnosti_razvitiya_bolezney>\n",
    "\n",
    "https://www.pesticidy.ru/%D0%9F%D0%B0%D1%80%D1%88%D0%B0_%D1%8F%D0%B1%D0%BB%D0%BE%D0%BD%D0%B8\n",
    "\n",
    "На основе данных выведена скорость прорастания спор в процентном соотношении"
   ]
  },
  {
   "cell_type": "markdown",
   "metadata": {},
   "source": [
    "Споры прорастают только при влажности выше 70% и температуре от 0°C до 30°C.\n",
    "\n",
    "Функция, которая лежит в основе алгоритма: \n",
    "$$\n",
    "f(t)= \\left\\{ \n",
    "\\begin{array}{c}\n",
    "t * {100\\over 19}, & t ∈ (0;19] \\\\ \n",
    "-t*{3000\\over 330} + {3000\\over 11}, & t ∈ (19;30) \\\\\n",
    "-1, & t ∈ (-\\infty; 0] ⋃ [30; +\\infty)\n",
    "\\end{array}\n",
    "\\right.\n",
    "$$ \n",
    "\n",
    "t - среднесуточная температура за сегодня\n",
    "\n",
    "Функция выдает -1 когда никто не размножается"
   ]
  },
  {
   "cell_type": "code",
   "execution_count": 22,
   "metadata": {},
   "outputs": [
    {
     "data": {
      "text/plain": [
       "92"
      ]
     },
     "execution_count": 22,
     "metadata": {},
     "output_type": "execute_result"
    }
   ],
   "source": [
    "hum = [81.38, 54.13, 57.5, 49.75, 58.38, 55.88, 53.13, 55.25, \n",
    "            48.63, 45, 63, 51.25, 41.63, 55.63, 57, 51.25, 50.63,\n",
    "            54.63, 61, 63.63, 73.38, 83, 81.25, 72, 88.25, 65.75,\n",
    "            47.88, 65.75, 50.5, 49.75, 82.75, 60.88, 65.5, 87.13,\n",
    "            58.63, 68.5, 56.25, 57.5, 59.38, 57.38, 48.38, 43.75,\n",
    "            42.75, 46.13, 45.88, 46.75, 48.75, 47.25, 41.88, 41.5,\n",
    "            53.38, 53.13, 52.63, 83.75, 83.5, 62.13, 61.75, 54.38,\n",
    "            65.88, 84.88, 88.38, 68.25, 65.13, 57.25, 51.13, 64.25,\n",
    "            61.13, 75.25, 75.38, 58.25, 74.5, 76.63, 75.38, 88.63,\n",
    "            87.38, 87.25, 74.88, 65.25, 81.88, 78.5, 68.63, 64, 62.25,\n",
    "            77.38, 87.88, 80.75, 90, 78.38, 92.88, 90.88, 72.88, 69.5]\n",
    "len(hum)"
   ]
  },
  {
   "cell_type": "code",
   "execution_count": 3,
   "metadata": {},
   "outputs": [],
   "source": [
    "temp = [7, 15.5, 13.5, 15.5, 10.5, 6.8, 8.5, 11.5,\n",
    "        15, 16.5, 17, 20.5, 22.5, 17, 20, 20, 22.5, 24.5, \n",
    "        16.5, 15, 16, 15.5, 15.5, 21.5, 21, 24, 21.5, 15.5, \n",
    "        21.5, 22, 9, 22, 21.5, 6, 15.5, 17.5, 18, 22, 23, 24, \n",
    "        16.5, 17.5, 19.5, 22, 25, 27.5, 28, 28, 25, 23.5, 23, \n",
    "        22, 27, 17, 17.5, 22.5, 24, 22, 17, 21.5, 20, 25.5, 23,\n",
    "        24.5, 27.5, 23.5, 23.5, 25, 17.5, 15, 16, 16.5, 14.5, \n",
    "        15.5, 23.5, 28, 27.5, 19, 21, 21, 22.5, 18.5, 14, 24,\n",
    "        25, 24.5, 25.5, 14.5, 23.5, 27]\n"
   ]
  },
  {
   "cell_type": "code",
   "execution_count": 28,
   "metadata": {},
   "outputs": [],
   "source": [
    "#def time_to_grow(hum,temp):\n",
    "percent_growth = []\n",
    "    #index = 0\n",
    "for i in range(len(temp)):\n",
    "    if hum[i] > 70 and temp[i] > 0 and temp[i] <= 19: # если условие выполняется, то зависимость линейна от температуры\n",
    "        index = temp[i] * 100/19\n",
    "        percent_growth.append(round(index,2))\n",
    "    else: \n",
    "        if hum[i] > 70 and temp[i] > 19 and temp[i] < 30:\n",
    "            index = -temp[i] * 3000/330 + 3000/11\n",
    "            percent_growth.append(round(index,2))\n",
    "        else:\n",
    "            if hum[i] < 70 or -3 < temp[i] >= 0 or 30 <= temp[i] < 32: \n",
    "                index = percent_growth[i-1]\n",
    "                percent_growth.append(index)\n",
    "            else:\n",
    "                if hum[i] < 70 or temp[i] <= -3 or  temp[i] >= 32: \n",
    "                    index = 0\n",
    "                    percent_growth.append(index)\n",
    "#return percent_growth"
   ]
  },
  {
   "cell_type": "code",
   "execution_count": 29,
   "metadata": {},
   "outputs": [
    {
     "data": {
      "text/plain": [
       "[36.84,\n",
       " 36.84,\n",
       " 36.84,\n",
       " 36.84,\n",
       " 36.84,\n",
       " 36.84,\n",
       " 36.84,\n",
       " 36.84,\n",
       " 36.84,\n",
       " 36.84,\n",
       " 36.84,\n",
       " 36.84,\n",
       " 36.84,\n",
       " 36.84,\n",
       " 36.84,\n",
       " 36.84,\n",
       " 36.84,\n",
       " 36.84,\n",
       " 36.84,\n",
       " 36.84,\n",
       " 84.21,\n",
       " 81.58,\n",
       " 81.58,\n",
       " 77.27,\n",
       " 81.82,\n",
       " 81.82,\n",
       " 81.82,\n",
       " 81.82,\n",
       " 81.82,\n",
       " 81.82,\n",
       " 47.37,\n",
       " 47.37,\n",
       " 47.37,\n",
       " 31.58,\n",
       " 31.58,\n",
       " 31.58,\n",
       " 31.58,\n",
       " 31.58,\n",
       " 31.58,\n",
       " 31.58,\n",
       " 31.58,\n",
       " 31.58,\n",
       " 31.58,\n",
       " 31.58,\n",
       " 31.58,\n",
       " 31.58,\n",
       " 31.58,\n",
       " 31.58,\n",
       " 31.58,\n",
       " 31.58,\n",
       " 31.58,\n",
       " 31.58,\n",
       " 31.58,\n",
       " 89.47,\n",
       " 92.11,\n",
       " 92.11,\n",
       " 92.11,\n",
       " 92.11,\n",
       " 92.11,\n",
       " 77.27,\n",
       " 90.91,\n",
       " 90.91,\n",
       " 90.91,\n",
       " 90.91,\n",
       " 90.91,\n",
       " 90.91,\n",
       " 90.91,\n",
       " 45.45,\n",
       " 92.11,\n",
       " 92.11,\n",
       " 84.21,\n",
       " 86.84,\n",
       " 76.32,\n",
       " 81.58,\n",
       " 59.09,\n",
       " 18.18,\n",
       " 22.73,\n",
       " 22.73,\n",
       " 81.82,\n",
       " 81.82,\n",
       " 81.82,\n",
       " 81.82,\n",
       " 81.82,\n",
       " 54.55,\n",
       " 45.45,\n",
       " 50.0,\n",
       " 40.91,\n",
       " 76.32,\n",
       " 59.09,\n",
       " 27.27]"
      ]
     },
     "execution_count": 29,
     "metadata": {},
     "output_type": "execute_result"
    }
   ],
   "source": [
    "percent_growth"
   ]
  },
  {
   "cell_type": "code",
   "execution_count": 58,
   "metadata": {},
   "outputs": [
    {
     "data": {
      "image/png": "[encoded data removed]",
      "text/plain": [
       "<Figure size 640x480 with 1 Axes>"
      ]
     },
     "metadata": {},
     "output_type": "display_data"
    }
   ],
   "source": [
    "xfmt = mdates.DateFormatter('%d-%m')\n",
    "ax.xaxis.set_major_formatter(xfmt)\n",
    "times = pd.date_range('2023-05-01', end = '2023-07-31', freq='5min')\n",
    "\n",
    "time = [i for i in range(90)]\n",
    "plt.plot(time, percent_growth, linestyle='-')\n",
    "plt.show()"
   ]
  },
  {
   "cell_type": "markdown",
   "metadata": {},
   "source": [
    "Информация взята тут: <http://berrylib.ru/books/item/f00/s00/z0000040/st004.shtml>\n",
    "\n",
    "На основе данных выведена функция описывающая зависимость длины инкубационного периода от температуры"
   ]
  },
  {
   "cell_type": "markdown",
   "metadata": {},
   "source": [
    "Входными данными является список из среднесуточных температур, снятых с датчика.\n",
    "```\n",
    "temp = []\n",
    "for i in range(20):\n",
    "    temp.append(randint(-30, 30))\n",
    "```\n",
    " - симмуляция списка среднесуточных температур.\n",
    "\n",
    " `mean = (temp[-1]+temp[-2]+temp[-3]+temp[-4]+temp[-5]) / 5` - находим среднее значение тмпературы за последние 5 дней.\n",
    "\n",
    "Условия для работоспособности зависисмости:    $$0 > mean > 25$$  (mean - средняя температура за последние 5 дней)\n",
    "\n",
    "Функция зависимости:  \n",
    "\n",
    " $$\n",
    "f(m)= \\left\\{ \n",
    "\\begin{array}{c}\n",
    "|24 - m| * {2\\over 3} + 6, & m ∈ (0;25] \\\\ \n",
    "-1, & m ∈ (-\\infty; 0] ⋃ (25; +\\infty)\n",
    "\\end{array}\n",
    "\\right.\n",
    "$$\n",
    "\n",
    "m - mean -  средняя температура за последние 5 дней."
   ]
  },
  {
   "cell_type": "code",
   "execution_count": null,
   "metadata": {},
   "outputs": [],
   "source": [
    "temp = []\n",
    "for i in range(20):\n",
    "    temp.append(randint(-30, 30))\n",
    "def parshas_incubation_period(temp):\n",
    "    #mean = (temp[-1]+temp[-2]+temp[-3]+temp[-4]+temp[-5]) / 5\n",
    "#    if mean > 0 and mean <= 25:\n",
    "#        len_incubation_period = abs((24-mean)*2 / 3) + 6\n",
    "#        return len_incubation_period\n",
    "#    else: \n",
    "#        return -1\n",
    "    if temp > 0 and temp <= 25:\n",
    "        len_incubation_period = abs((24-temp)*2 / 3) + 6\n",
    "        return len_incubation_period\n",
    "    else: \n",
    "        return -1"
   ]
  },
  {
   "cell_type": "code",
   "execution_count": 22,
   "metadata": {},
   "outputs": [],
   "source": [
    "humidity = [81.38, 54.13, 57.5, 49.75, 58.38, 55.88, 53.13, 55.25, \n",
    "            48.63, 45, 63, 51.25, 41.63, 55.63, 57, 51.25, 50.63,\n",
    "            54.63, 61, 63.63, 73.38, 83, 81.25, 72, 88.25, 65.75,\n",
    "            47.88, 65.75, 50.5, 49.75, 82.75, 60.88, 65.5, 87.13,\n",
    "            58.63, 68.5, 56.25, 57.5, 59.38, 57.38, 48.38, 43.75,\n",
    "            42.75, 46.13, 45.88, 46.75, 48.75, 47.25, 41.88, 41.5,\n",
    "            53.38, 53.13, 52.63, 83.75, 83.5, 62.13, 61.75, 54.38,\n",
    "            65.88, 84.88, 88.38, 68.25, 65.13, 57.25, 51.13, 64.25,\n",
    "            61.13, 75.25, 75.38, 58.25, 74.5, 76.63, 75.38, 88.63,\n",
    "            87.38, 87.25, 74.88, 65.25, 81.88, 78.5, 68.63, 64, 62.25,\n",
    "            77.38, 87.88, 80.75, 90, 78.38, 92.88, 90.88, 72.88, 69.5]\n"
   ]
  },
  {
   "cell_type": "code",
   "execution_count": null,
   "metadata": {},
   "outputs": [
    {
     "data": {
      "text/plain": [
       "[17.33,\n",
       " 11.67,\n",
       " 13.0,\n",
       " 11.67,\n",
       " 15.0,\n",
       " 17.47,\n",
       " 16.33,\n",
       " 14.33,\n",
       " 12.0,\n",
       " 11.0,\n",
       " 10.67,\n",
       " 8.33,\n",
       " 7.0,\n",
       " 10.67,\n",
       " 8.67,\n",
       " 8.67,\n",
       " 7.0,\n",
       " 6.33,\n",
       " 11.0,\n",
       " 12.0,\n",
       " 11.33,\n",
       " 11.67,\n",
       " 11.67,\n",
       " 7.67,\n",
       " 8.0,\n",
       " 6.0,\n",
       " 7.67,\n",
       " 11.67,\n",
       " 7.67,\n",
       " 7.33,\n",
       " 16.0,\n",
       " 7.33,\n",
       " 7.67,\n",
       " 18.0,\n",
       " 11.67,\n",
       " 10.33,\n",
       " 10.0,\n",
       " 7.33,\n",
       " 6.67,\n",
       " 6.0,\n",
       " 11.0,\n",
       " 10.33,\n",
       " 9.0,\n",
       " 7.33,\n",
       " 6.67,\n",
       " -1,\n",
       " -1,\n",
       " -1,\n",
       " 6.67,\n",
       " 6.33,\n",
       " 6.67,\n",
       " 7.33,\n",
       " -1,\n",
       " 10.67,\n",
       " 10.33,\n",
       " 7.0,\n",
       " 6.0,\n",
       " 7.33,\n",
       " 10.67,\n",
       " 7.67,\n",
       " 8.67,\n",
       " -1,\n",
       " 6.67,\n",
       " 6.33,\n",
       " -1,\n",
       " 6.33,\n",
       " 6.33,\n",
       " 6.67,\n",
       " 10.33,\n",
       " 12.0,\n",
       " 11.33,\n",
       " 11.0,\n",
       " 12.33,\n",
       " 11.67,\n",
       " 6.33,\n",
       " -1,\n",
       " -1,\n",
       " 9.33,\n",
       " 8.0,\n",
       " 8.0,\n",
       " 7.0,\n",
       " 9.67,\n",
       " 12.67,\n",
       " 6.0,\n",
       " 6.67,\n",
       " 6.33,\n",
       " -1,\n",
       " 12.33,\n",
       " 6.33,\n",
       " -1]"
      ]
     },
     "metadata": {},
     "output_type": "display_data"
    }
   ],
   "source": [
    "temp = [7, 15.5, 13.5, 15.5, 10.5, 6.8, 8.5, 11.5,\n",
    "        15, 16.5, 17, 20.5, 22.5, 17, 20, 20, 22.5, 24.5, \n",
    "        16.5, 15, 16, 15.5, 15.5, 21.5, 21, 24, 21.5, 15.5, \n",
    "        21.5, 22, 9, 22, 21.5, 6, 15.5, 17.5, 18, 22, 23, 24, \n",
    "        16.5, 17.5, 19.5, 22, 25, 27.5, 28, 28, 25, 23.5, 23, \n",
    "        22, 27, 17, 17.5, 22.5, 24, 22, 17, 21.5, 20, 25.5, 23,\n",
    "        24.5, 27.5, 23.5, 23.5, 25, 17.5, 15, 16, 16.5, 14.5, \n",
    "        15.5, 23.5, 28, 27.5, 19, 21, 21, 22.5, 18.5, 14, 24,\n",
    "        25, 24.5, 25.5, 14.5, 23.5, 27]\n",
    "\n",
    "incubation_time = []\n",
    "for i in range(len(temp)):    \n",
    "    percent = round(parshas_incubation_period(temp[i]),2)\n",
    "    incubation_time.append(percent)\n",
    "incubation_time"
   ]
  },
  {
   "cell_type": "code",
   "execution_count": null,
   "metadata": {},
   "outputs": [
    {
     "data": {
      "image/png": "[encoded data removed]",
      "text/plain": [
       "<Figure size 640x480 with 1 Axes>"
      ]
     },
     "metadata": {},
     "output_type": "display_data"
    }
   ],
   "source": [
    "time = [i for i in range(90)]\n",
    "plt.plot(time, incubation_time, linestyle='-')\n",
    "plt.show()"
   ]
  }
 ],
 "metadata": {
  "kernelspec": {
   "display_name": "Python 3",
   "language": "python",
   "name": "python3"
  },
  "language_info": {
   "codemirror_mode": {
    "name": "ipython",
    "version": 3
   },
   "file_extension": ".py",
   "mimetype": "text/x-python",
   "name": "python",
   "nbconvert_exporter": "python",
   "pygments_lexer": "ipython3",
   "version": "3.11.4"
  },
  "orig_nbformat": 4
 },
 "nbformat": 4,
 "nbformat_minor": 2
}
