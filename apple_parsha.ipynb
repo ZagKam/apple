{
 "cells": [
  {
   "cell_type": "code",
   "execution_count": 1,
   "metadata": {},
   "outputs": [],
   "source": [
    "import math\n",
    "import matplotlib.pyplot as plt\n",
    "import matplotlib.dates as mdates\n",
    "import pandas as pd\n",
    "from random import randint\n",
    "import seaborn as sns\n",
    "import statistics\n",
    "import numpy as np"
   ]
  },
  {
   "cell_type": "markdown",
   "metadata": {},
   "source": [
    "Информация взята тут: <https://studbooks.net/1104519/agropromyshlennost/metody_ucheta_rasprostranyonnosti_razvitiya_bolezney>\n",
    "\n",
    "<https://www.pesticidy.ru/%D0%9F%D0%B0%D1%80%D1%88%D0%B0_%D1%8F%D0%B1%D0%BB%D0%BE%D0%BD%D0%B8>\n",
    "\n",
    "На основе данных выведена скорость прорастания спор в процентном соотношении"
   ]
  },
  {
   "cell_type": "markdown",
   "metadata": {},
   "source": [
    "Споры прорастают только при влажности выше 70% и температуре от 0°C до 30°C.\n",
    "\n",
    "Функция, которая лежит в основе алгоритма: \n",
    "$$\n",
    "f(t)= \\left\\{ \n",
    "\\begin{array}{c}\n",
    "t * {100\\over 19} * {24\\over 500}, & t ∈ (0;19] \\\\ \n",
    "(-t*{3000\\over 330} + {3000\\over 11}) * {24\\over 500}, & t ∈ (19;30) \\\\\n",
    "прошлое значение, & t ∈ (-\\infty; 0] ⋃ [30; +\\infty)\n",
    "\\end{array}\n",
    "\\right.\n",
    "$$ \n",
    "\n",
    "t - среднесуточная температура за сегодня\n",
    "\n",
    "Функция выдает -1 когда никто не размножается"
   ]
  },
  {
   "cell_type": "code",
   "execution_count": 2,
   "metadata": {},
   "outputs": [
    {
     "data": {
      "text/plain": [
       "92"
      ]
     },
     "execution_count": 2,
     "metadata": {},
     "output_type": "execute_result"
    }
   ],
   "source": [
    "hum = [81.38, 54.13, 57.5, 49.75, 58.38, 55.88, 53.13, 55.25, \n",
    "            48.63, 45, 63, 51.25, 41.63, 55.63, 57, 51.25, 50.63,\n",
    "            54.63, 61, 63.63, 73.38, 83, 81.25, 72, 88.25, 65.75,\n",
    "            47.88, 65.75, 50.5, 49.75, 82.75, 60.88, 65.5, 87.13,\n",
    "            58.63, 68.5, 56.25, 57.5, 59.38, 57.38, 48.38, 43.75,\n",
    "            42.75, 46.13, 45.88, 46.75, 48.75, 47.25, 41.88, 41.5,\n",
    "            53.38, 53.13, 52.63, 83.75, 83.5, 62.13, 61.75, 54.38,\n",
    "            65.88, 84.88, 88.38, 68.25, 65.13, 57.25, 51.13, 64.25,\n",
    "            61.13, 75.25, 75.38, 58.25, 74.5, 76.63, 75.38, 88.63,\n",
    "            87.38, 87.25, 74.88, 65.25, 81.88, 78.5, 68.63, 64, 62.25,\n",
    "            77.38, 87.88, 80.75, 90, 78.38, 92.88, 90.88, 72.88, 69.5]\n",
    "len(hum)"
   ]
  },
  {
   "cell_type": "code",
   "execution_count": 3,
   "metadata": {},
   "outputs": [],
   "source": [
    "temp = [7, 15.5, 13.5, 15.5, 10.5, 6.8, 8.5, 11.5,\n",
    "        15, 16.5, 17, 20.5, 22.5, 17, 20, 20, 22.5, 24.5, \n",
    "        16.5, 15, 16, 15.5, 15.5, 21.5, 21, 24, 21.5, 15.5, \n",
    "        21.5, 22, 9, 22, 21.5, 6, 15.5, 17.5, 18, 22, 23, 24, \n",
    "        16.5, 17.5, 19.5, 22, 25, 27.5, 28, 28, 25, 23.5, 23, \n",
    "        22, 27, 17, 17.5, 22.5, 24, 22, 17, 21.5, 20, 25.5, 23,\n",
    "        24.5, 27.5, 23.5, 23.5, 25, 17.5, 15, 16, 16.5, 14.5, \n",
    "        15.5, 23.5, 28, 27.5, 19, 21, 21, 22.5, 18.5, 14, 24,\n",
    "        25, 24.5, 25.5, 14.5, 23.5, 27, 28, 29]\n"
   ]
  },
  {
   "cell_type": "code",
   "execution_count": 4,
   "metadata": {},
   "outputs": [],
   "source": [
    "times = pd.date_range('2023-05-01', end = '2023-07-31', freq = 'D')"
   ]
  },
  {
   "cell_type": "code",
   "execution_count": 5,
   "metadata": {},
   "outputs": [
    {
     "data": {
      "text/plain": [
       "DatetimeIndex(['2023-05-01', '2023-05-02', '2023-05-03', '2023-05-04',\n",
       "               '2023-05-05', '2023-05-06', '2023-05-07', '2023-05-08',\n",
       "               '2023-05-09', '2023-05-10', '2023-05-11', '2023-05-12',\n",
       "               '2023-05-13', '2023-05-14', '2023-05-15', '2023-05-16',\n",
       "               '2023-05-17', '2023-05-18', '2023-05-19', '2023-05-20',\n",
       "               '2023-05-21', '2023-05-22', '2023-05-23', '2023-05-24',\n",
       "               '2023-05-25', '2023-05-26', '2023-05-27', '2023-05-28',\n",
       "               '2023-05-29', '2023-05-30', '2023-05-31', '2023-06-01',\n",
       "               '2023-06-02', '2023-06-03', '2023-06-04', '2023-06-05',\n",
       "               '2023-06-06', '2023-06-07', '2023-06-08', '2023-06-09',\n",
       "               '2023-06-10', '2023-06-11', '2023-06-12', '2023-06-13',\n",
       "               '2023-06-14', '2023-06-15', '2023-06-16', '2023-06-17',\n",
       "               '2023-06-18', '2023-06-19', '2023-06-20', '2023-06-21',\n",
       "               '2023-06-22', '2023-06-23', '2023-06-24', '2023-06-25',\n",
       "               '2023-06-26', '2023-06-27', '2023-06-28', '2023-06-29',\n",
       "               '2023-06-30', '2023-07-01', '2023-07-02', '2023-07-03',\n",
       "               '2023-07-04', '2023-07-05', '2023-07-06', '2023-07-07',\n",
       "               '2023-07-08', '2023-07-09', '2023-07-10', '2023-07-11',\n",
       "               '2023-07-12', '2023-07-13', '2023-07-14', '2023-07-15',\n",
       "               '2023-07-16', '2023-07-17', '2023-07-18', '2023-07-19',\n",
       "               '2023-07-20', '2023-07-21', '2023-07-22', '2023-07-23',\n",
       "               '2023-07-24', '2023-07-25', '2023-07-26', '2023-07-27',\n",
       "               '2023-07-28', '2023-07-29', '2023-07-30', '2023-07-31'],\n",
       "              dtype='datetime64[ns]', freq='D')"
      ]
     },
     "execution_count": 5,
     "metadata": {},
     "output_type": "execute_result"
    }
   ],
   "source": [
    "times"
   ]
  },
  {
   "cell_type": "code",
   "execution_count": 6,
   "metadata": {},
   "outputs": [
    {
     "data": {
      "text/plain": [
       "pandas.core.indexes.datetimes.DatetimeIndex"
      ]
     },
     "execution_count": 6,
     "metadata": {},
     "output_type": "execute_result"
    }
   ],
   "source": [
    "type(times)"
   ]
  },
  {
   "cell_type": "code",
   "execution_count": 7,
   "metadata": {},
   "outputs": [
    {
     "data": {
      "text/plain": [
       "(92, 92, 92)"
      ]
     },
     "execution_count": 7,
     "metadata": {},
     "output_type": "execute_result"
    }
   ],
   "source": [
    "len(times), len(temp), len(hum)"
   ]
  },
  {
   "cell_type": "code",
   "execution_count": 8,
   "metadata": {},
   "outputs": [],
   "source": [
    "#def time_to_grow(hum,temp):\n",
    "percent_growth = []\n",
    "index = 0\n",
    "for i in range(len(temp)):\n",
    "    if 70 < hum[i] < 90 and 0 < temp[i] <= 19: # если условие выполняется, то зависимость линейна от температуры\n",
    "        index = index + temp[i] * 100/19 * 24/500\n",
    "        percent_growth.append(round(index,2))\n",
    "    else: \n",
    "        if 70 < hum[i] < 90 and 19 < temp[i] < 30:\n",
    "            index = index + (-temp[i] * 3000/330 + 3000/11) * 24/500\n",
    "            percent_growth.append(round(index,2))\n",
    "        else:\n",
    "            if hum[i] < 70 or -3 < temp[i] <= 0 or 30 <= temp[i] < 32: \n",
    "                #index = index1\n",
    "                percent_growth.append(round(index,2))\n",
    "            else:\n",
    "                if hum[i] >= 90 or temp[i] <= -3 or  temp[i] >= 32: \n",
    "                    index = 0\n",
    "                    percent_growth.append(0)\n",
    "#return percent_growth"
   ]
  },
  {
   "cell_type": "code",
   "execution_count": 9,
   "metadata": {},
   "outputs": [
    {
     "data": {
      "text/plain": [
       "[1.77,\n",
       " 1.77,\n",
       " 1.77,\n",
       " 1.77,\n",
       " 1.77,\n",
       " 1.77,\n",
       " 1.77,\n",
       " 1.77,\n",
       " 1.77,\n",
       " 1.77,\n",
       " 1.77,\n",
       " 1.77,\n",
       " 1.77,\n",
       " 1.77,\n",
       " 1.77,\n",
       " 1.77,\n",
       " 1.77,\n",
       " 1.77,\n",
       " 1.77,\n",
       " 1.77,\n",
       " 5.81,\n",
       " 9.73,\n",
       " 13.64,\n",
       " 17.35,\n",
       " 21.28,\n",
       " 21.28,\n",
       " 21.28,\n",
       " 21.28,\n",
       " 21.28,\n",
       " 21.28,\n",
       " 23.55,\n",
       " 23.55,\n",
       " 23.55,\n",
       " 25.07,\n",
       " 25.07,\n",
       " 25.07,\n",
       " 25.07,\n",
       " 25.07,\n",
       " 25.07,\n",
       " 25.07,\n",
       " 25.07,\n",
       " 25.07,\n",
       " 25.07,\n",
       " 25.07,\n",
       " 25.07,\n",
       " 25.07,\n",
       " 25.07,\n",
       " 25.07,\n",
       " 25.07,\n",
       " 25.07,\n",
       " 25.07,\n",
       " 25.07,\n",
       " 25.07,\n",
       " 29.36,\n",
       " 33.78,\n",
       " 33.78,\n",
       " 33.78,\n",
       " 33.78,\n",
       " 33.78,\n",
       " 37.49,\n",
       " 41.86,\n",
       " 41.86,\n",
       " 41.86,\n",
       " 41.86,\n",
       " 41.86,\n",
       " 41.86,\n",
       " 41.86,\n",
       " 44.04,\n",
       " 48.46,\n",
       " 48.46,\n",
       " 52.5,\n",
       " 56.67,\n",
       " 60.33,\n",
       " 64.25,\n",
       " 67.09,\n",
       " 67.96,\n",
       " 69.05,\n",
       " 69.05,\n",
       " 72.98,\n",
       " 76.9,\n",
       " 76.9,\n",
       " 76.9,\n",
       " 76.9,\n",
       " 79.52,\n",
       " 81.7,\n",
       " 84.1,\n",
       " 0,\n",
       " 3.66,\n",
       " 0,\n",
       " 0,\n",
       " 0.87,\n",
       " 0.87]"
      ]
     },
     "execution_count": 9,
     "metadata": {},
     "output_type": "execute_result"
    }
   ],
   "source": [
    "percent_growth"
   ]
  },
  {
   "cell_type": "code",
   "execution_count": 10,
   "metadata": {},
   "outputs": [],
   "source": [
    "df_test = pd.DataFrame(data = np.array([times, temp, hum,]).T, columns=['times', 'temp', 'hum'])"
   ]
  },
  {
   "cell_type": "code",
   "execution_count": 11,
   "metadata": {},
   "outputs": [],
   "source": [
    "df_test['times'] = ['2023-05-01', '2023-05-02', '2023-05-03', '2023-05-04',\n",
    "               '2023-05-05', '2023-05-06', '2023-05-07', '2023-05-08',\n",
    "               '2023-05-09', '2023-05-10', '2023-05-11', '2023-05-12',\n",
    "               '2023-05-13', '2023-05-14', '2023-05-15', '2023-05-16',\n",
    "               '2023-05-17', '2023-05-18', '2023-05-19', '2023-05-20',\n",
    "               '2023-05-21', '2023-05-22', '2023-05-23', '2023-05-24',\n",
    "               '2023-05-25', '2023-05-26', '2023-05-27', '2023-05-28',\n",
    "               '2023-05-29', '2023-05-30', '2023-05-31', '2023-06-01',\n",
    "               '2023-06-02', '2023-06-03', '2023-06-04', '2023-06-05',\n",
    "               '2023-06-06', '2023-06-07', '2023-06-08', '2023-06-09',\n",
    "               '2023-06-10', '2023-06-11', '2023-06-12', '2023-06-13',\n",
    "               '2023-06-14', '2023-06-15', '2023-06-16', '2023-06-17',\n",
    "               '2023-06-18', '2023-06-19', '2023-06-20', '2023-06-21',\n",
    "               '2023-06-22', '2023-06-23', '2023-06-24', '2023-06-25',\n",
    "               '2023-06-26', '2023-06-27', '2023-06-28', '2023-06-29',\n",
    "               '2023-06-30', '2023-07-01', '2023-07-02', '2023-07-03',\n",
    "               '2023-07-04', '2023-07-05', '2023-07-06', '2023-07-07',\n",
    "               '2023-07-08', '2023-07-09', '2023-07-10', '2023-07-11',\n",
    "               '2023-07-12', '2023-07-13', '2023-07-14', '2023-07-15',\n",
    "               '2023-07-16', '2023-07-17', '2023-07-18', '2023-07-19',\n",
    "               '2023-07-20', '2023-07-21', '2023-07-22', '2023-07-23',\n",
    "               '2023-07-24', '2023-07-25', '2023-07-26', '2023-07-27',\n",
    "               '2023-07-28', '2023-07-29', '2023-07-30', '2023-07-31']"
   ]
  },
  {
   "cell_type": "code",
   "execution_count": 13,
   "metadata": {},
   "outputs": [],
   "source": [
    "#percent_growth.append(1)"
   ]
  },
  {
   "cell_type": "code",
   "execution_count": 12,
   "metadata": {},
   "outputs": [
    {
     "data": {
      "text/plain": [
       "(92, 92, 92, 92)"
      ]
     },
     "execution_count": 12,
     "metadata": {},
     "output_type": "execute_result"
    }
   ],
   "source": [
    "len(times), len(temp), len(hum),len(percent_growth)"
   ]
  },
  {
   "cell_type": "code",
   "execution_count": 13,
   "metadata": {},
   "outputs": [],
   "source": [
    "df_test['percent_growth'] = percent_growth"
   ]
  },
  {
   "cell_type": "code",
   "execution_count": 14,
   "metadata": {},
   "outputs": [
    {
     "data": {
      "text/html": [
       "<div>\n",
       "<style scoped>\n",
       "    .dataframe tbody tr th:only-of-type {\n",
       "        vertical-align: middle;\n",
       "    }\n",
       "\n",
       "    .dataframe tbody tr th {\n",
       "        vertical-align: top;\n",
       "    }\n",
       "\n",
       "    .dataframe thead th {\n",
       "        text-align: right;\n",
       "    }\n",
       "</style>\n",
       "<table border=\"1\" class=\"dataframe\">\n",
       "  <thead>\n",
       "    <tr style=\"text-align: right;\">\n",
       "      <th></th>\n",
       "      <th>times</th>\n",
       "      <th>temp</th>\n",
       "      <th>hum</th>\n",
       "      <th>percent_growth</th>\n",
       "    </tr>\n",
       "  </thead>\n",
       "  <tbody>\n",
       "    <tr>\n",
       "      <th>0</th>\n",
       "      <td>2023-05-01</td>\n",
       "      <td>7</td>\n",
       "      <td>81.38</td>\n",
       "      <td>1.77</td>\n",
       "    </tr>\n",
       "    <tr>\n",
       "      <th>1</th>\n",
       "      <td>2023-05-02</td>\n",
       "      <td>15.5</td>\n",
       "      <td>54.13</td>\n",
       "      <td>1.77</td>\n",
       "    </tr>\n",
       "    <tr>\n",
       "      <th>2</th>\n",
       "      <td>2023-05-03</td>\n",
       "      <td>13.5</td>\n",
       "      <td>57.5</td>\n",
       "      <td>1.77</td>\n",
       "    </tr>\n",
       "    <tr>\n",
       "      <th>3</th>\n",
       "      <td>2023-05-04</td>\n",
       "      <td>15.5</td>\n",
       "      <td>49.75</td>\n",
       "      <td>1.77</td>\n",
       "    </tr>\n",
       "    <tr>\n",
       "      <th>4</th>\n",
       "      <td>2023-05-05</td>\n",
       "      <td>10.5</td>\n",
       "      <td>58.38</td>\n",
       "      <td>1.77</td>\n",
       "    </tr>\n",
       "    <tr>\n",
       "      <th>...</th>\n",
       "      <td>...</td>\n",
       "      <td>...</td>\n",
       "      <td>...</td>\n",
       "      <td>...</td>\n",
       "    </tr>\n",
       "    <tr>\n",
       "      <th>87</th>\n",
       "      <td>2023-07-27</td>\n",
       "      <td>14.5</td>\n",
       "      <td>78.38</td>\n",
       "      <td>3.66</td>\n",
       "    </tr>\n",
       "    <tr>\n",
       "      <th>88</th>\n",
       "      <td>2023-07-28</td>\n",
       "      <td>23.5</td>\n",
       "      <td>92.88</td>\n",
       "      <td>0.00</td>\n",
       "    </tr>\n",
       "    <tr>\n",
       "      <th>89</th>\n",
       "      <td>2023-07-29</td>\n",
       "      <td>27</td>\n",
       "      <td>90.88</td>\n",
       "      <td>0.00</td>\n",
       "    </tr>\n",
       "    <tr>\n",
       "      <th>90</th>\n",
       "      <td>2023-07-30</td>\n",
       "      <td>28</td>\n",
       "      <td>72.88</td>\n",
       "      <td>0.87</td>\n",
       "    </tr>\n",
       "    <tr>\n",
       "      <th>91</th>\n",
       "      <td>2023-07-31</td>\n",
       "      <td>29</td>\n",
       "      <td>69.5</td>\n",
       "      <td>0.87</td>\n",
       "    </tr>\n",
       "  </tbody>\n",
       "</table>\n",
       "<p>92 rows × 4 columns</p>\n",
       "</div>"
      ],
      "text/plain": [
       "         times  temp    hum  percent_growth\n",
       "0   2023-05-01     7  81.38            1.77\n",
       "1   2023-05-02  15.5  54.13            1.77\n",
       "2   2023-05-03  13.5   57.5            1.77\n",
       "3   2023-05-04  15.5  49.75            1.77\n",
       "4   2023-05-05  10.5  58.38            1.77\n",
       "..         ...   ...    ...             ...\n",
       "87  2023-07-27  14.5  78.38            3.66\n",
       "88  2023-07-28  23.5  92.88            0.00\n",
       "89  2023-07-29    27  90.88            0.00\n",
       "90  2023-07-30    28  72.88            0.87\n",
       "91  2023-07-31    29   69.5            0.87\n",
       "\n",
       "[92 rows x 4 columns]"
      ]
     },
     "execution_count": 14,
     "metadata": {},
     "output_type": "execute_result"
    }
   ],
   "source": [
    "df_test"
   ]
  },
  {
   "cell_type": "code",
   "execution_count": 15,
   "metadata": {},
   "outputs": [
    {
     "data": {
      "image/png": "[encoded data removed]",
      "text/plain": [
       "<Figure size 640x480 with 1 Axes>"
      ]
     },
     "metadata": {},
     "output_type": "display_data"
    }
   ],
   "source": [
    "plt.plot(df_test['times'], df_test['percent_growth'], linestyle='-')\n",
    "plt.show()\n"
   ]
  },
  {
   "cell_type": "markdown",
   "metadata": {},
   "source": [
    "Информация взята тут: <http://berrylib.ru/books/item/f00/s00/z0000040/st004.shtml>\n",
    "\n",
    "На основе данных выведена функция описывающая зависимость длины инкубационного периода от температуры"
   ]
  },
  {
   "cell_type": "markdown",
   "metadata": {},
   "source": [
    "Входными данными является список из среднесуточных температур, снятых с датчика.\n",
    "```\n",
    "temp = []\n",
    "for i in range(20):\n",
    "    temp.append(randint(-30, 30))\n",
    "```\n",
    " - симмуляция списка среднесуточных температур.\n",
    "\n",
    " `mean = (temp[-1]+temp[-2]+temp[-3]+temp[-4]+temp[-5]) / 5` - находим среднее значение тмпературы за последние 5 дней.\n",
    "\n",
    "Условия для работоспособности зависисмости:    $$0 > mean > 25$$  (mean - средняя температура за последние 5 дней)\n",
    "\n",
    "Функция зависимости:  \n",
    "\n",
    " $$\n",
    "f(m)= \\left\\{ \n",
    "\\begin{array}{c}\n",
    "|24 - m| * {2\\over 3} + 6, & m ∈ (0;25] \\\\ \n",
    "-1, & m ∈ (-\\infty; 0] ⋃ (25; +\\infty)\n",
    "\\end{array}\n",
    "\\right.\n",
    "$$\n",
    "\n",
    "m - mean -  средняя температура за последние 5 дней."
   ]
  },
  {
   "cell_type": "code",
   "execution_count": null,
   "metadata": {},
   "outputs": [],
   "source": [
    "temp = []\n",
    "for i in range(20):\n",
    "    temp.append(randint(-30, 30))\n",
    "def parshas_incubation_period(temp):\n",
    "    #mean = (temp[-1]+temp[-2]+temp[-3]+temp[-4]+temp[-5]) / 5\n",
    "#    if mean > 0 and mean <= 25:\n",
    "#        len_incubation_period = abs((24-mean)*2 / 3) + 6\n",
    "#        return len_incubation_period\n",
    "#    else: \n",
    "#        return -1\n",
    "    if temp > 0 and temp <= 25:\n",
    "        len_incubation_period = abs((24-temp)*2 / 3) + 6\n",
    "        return len_incubation_period\n",
    "    else: \n",
    "        return -1"
   ]
  },
  {
   "cell_type": "code",
   "execution_count": 22,
   "metadata": {},
   "outputs": [],
   "source": [
    "humidity = [81.38, 54.13, 57.5, 49.75, 58.38, 55.88, 53.13, 55.25, \n",
    "            48.63, 45, 63, 51.25, 41.63, 55.63, 57, 51.25, 50.63,\n",
    "            54.63, 61, 63.63, 73.38, 83, 81.25, 72, 88.25, 65.75,\n",
    "            47.88, 65.75, 50.5, 49.75, 82.75, 60.88, 65.5, 87.13,\n",
    "            58.63, 68.5, 56.25, 57.5, 59.38, 57.38, 48.38, 43.75,\n",
    "            42.75, 46.13, 45.88, 46.75, 48.75, 47.25, 41.88, 41.5,\n",
    "            53.38, 53.13, 52.63, 83.75, 83.5, 62.13, 61.75, 54.38,\n",
    "            65.88, 84.88, 88.38, 68.25, 65.13, 57.25, 51.13, 64.25,\n",
    "            61.13, 75.25, 75.38, 58.25, 74.5, 76.63, 75.38, 88.63,\n",
    "            87.38, 87.25, 74.88, 65.25, 81.88, 78.5, 68.63, 64, 62.25,\n",
    "            77.38, 87.88, 80.75, 90, 78.38, 92.88, 90.88, 72.88, 69.5]\n"
   ]
  },
  {
   "cell_type": "code",
   "execution_count": null,
   "metadata": {},
   "outputs": [
    {
     "data": {
      "text/plain": [
       "[17.33,\n",
       " 11.67,\n",
       " 13.0,\n",
       " 11.67,\n",
       " 15.0,\n",
       " 17.47,\n",
       " 16.33,\n",
       " 14.33,\n",
       " 12.0,\n",
       " 11.0,\n",
       " 10.67,\n",
       " 8.33,\n",
       " 7.0,\n",
       " 10.67,\n",
       " 8.67,\n",
       " 8.67,\n",
       " 7.0,\n",
       " 6.33,\n",
       " 11.0,\n",
       " 12.0,\n",
       " 11.33,\n",
       " 11.67,\n",
       " 11.67,\n",
       " 7.67,\n",
       " 8.0,\n",
       " 6.0,\n",
       " 7.67,\n",
       " 11.67,\n",
       " 7.67,\n",
       " 7.33,\n",
       " 16.0,\n",
       " 7.33,\n",
       " 7.67,\n",
       " 18.0,\n",
       " 11.67,\n",
       " 10.33,\n",
       " 10.0,\n",
       " 7.33,\n",
       " 6.67,\n",
       " 6.0,\n",
       " 11.0,\n",
       " 10.33,\n",
       " 9.0,\n",
       " 7.33,\n",
       " 6.67,\n",
       " -1,\n",
       " -1,\n",
       " -1,\n",
       " 6.67,\n",
       " 6.33,\n",
       " 6.67,\n",
       " 7.33,\n",
       " -1,\n",
       " 10.67,\n",
       " 10.33,\n",
       " 7.0,\n",
       " 6.0,\n",
       " 7.33,\n",
       " 10.67,\n",
       " 7.67,\n",
       " 8.67,\n",
       " -1,\n",
       " 6.67,\n",
       " 6.33,\n",
       " -1,\n",
       " 6.33,\n",
       " 6.33,\n",
       " 6.67,\n",
       " 10.33,\n",
       " 12.0,\n",
       " 11.33,\n",
       " 11.0,\n",
       " 12.33,\n",
       " 11.67,\n",
       " 6.33,\n",
       " -1,\n",
       " -1,\n",
       " 9.33,\n",
       " 8.0,\n",
       " 8.0,\n",
       " 7.0,\n",
       " 9.67,\n",
       " 12.67,\n",
       " 6.0,\n",
       " 6.67,\n",
       " 6.33,\n",
       " -1,\n",
       " 12.33,\n",
       " 6.33,\n",
       " -1]"
      ]
     },
     "metadata": {},
     "output_type": "display_data"
    }
   ],
   "source": [
    "temp = [7, 15.5, 13.5, 15.5, 10.5, 6.8, 8.5, 11.5,\n",
    "        15, 16.5, 17, 20.5, 22.5, 17, 20, 20, 22.5, 24.5, \n",
    "        16.5, 15, 16, 15.5, 15.5, 21.5, 21, 24, 21.5, 15.5, \n",
    "        21.5, 22, 9, 22, 21.5, 6, 15.5, 17.5, 18, 22, 23, 24, \n",
    "        16.5, 17.5, 19.5, 22, 25, 27.5, 28, 28, 25, 23.5, 23, \n",
    "        22, 27, 17, 17.5, 22.5, 24, 22, 17, 21.5, 20, 25.5, 23,\n",
    "        24.5, 27.5, 23.5, 23.5, 25, 17.5, 15, 16, 16.5, 14.5, \n",
    "        15.5, 23.5, 28, 27.5, 19, 21, 21, 22.5, 18.5, 14, 24,\n",
    "        25, 24.5, 25.5, 14.5, 23.5, 27]\n",
    "\n",
    "incubation_time = []\n",
    "for i in range(len(temp)):    \n",
    "    percent = round(parshas_incubation_period(temp[i]),2)\n",
    "    incubation_time.append(percent)\n",
    "incubation_time"
   ]
  },
  {
   "cell_type": "code",
   "execution_count": null,
   "metadata": {},
   "outputs": [
    {
     "data": {
      "image/png": "[encoded data removed]",
      "text/plain": [
       "<Figure size 640x480 with 1 Axes>"
      ]
     },
     "metadata": {},
     "output_type": "display_data"
    }
   ],
   "source": [
    "time = [i for i in range(90)]\n",
    "plt.plot(time, incubation_time, linestyle='-')\n",
    "plt.show()"
   ]
  }
 ],
 "metadata": {
  "kernelspec": {
   "display_name": "Python 3",
   "language": "python",
   "name": "python3"
  },
  "language_info": {
   "codemirror_mode": {
    "name": "ipython",
    "version": 3
   },
   "file_extension": ".py",
   "mimetype": "text/x-python",
   "name": "python",
   "nbconvert_exporter": "python",
   "pygments_lexer": "ipython3",
   "version": "3.11.4"
  },
  "orig_nbformat": 4
 },
 "nbformat": 4,
 "nbformat_minor": 2
}
